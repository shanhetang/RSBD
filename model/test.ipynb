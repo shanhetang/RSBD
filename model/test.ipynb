{
 "cells": [
  {
   "cell_type": "code",
   "execution_count": 92,
   "id": "initial_id",
   "metadata": {
    "collapsed": true,
    "ExecuteTime": {
     "end_time": "2024-07-24T07:43:24.274512500Z",
     "start_time": "2024-07-24T07:43:24.149227400Z"
    }
   },
   "outputs": [],
   "source": [
    "import json\n",
    "\n",
    "from tqdm import tqdm\n",
    "import pandas as pd\n",
    "import numpy as np\n",
    "from sklearn.metrics.pairwise import cosine_similarity,pairwise_distances\n",
    "from collections import defaultdict"
   ]
  },
  {
   "cell_type": "code",
   "outputs": [],
   "source": [
    "def load_data_and_map_ids(file_path, test_size=0.3):\n",
    "    # 读取数据\n",
    "    data = pd.read_csv(file_path, sep=' ', header=None, names=['user_id', 'item_id', 'click'])\n",
    "\n",
    "    # 1.1 将id映射到指定范围\n",
    "    user_id_map = {id: i for i, id in enumerate(data['user_id'].unique())}\n",
    "    item_id_map = {id: i for i, id in enumerate(data['item_id'].unique())}\n",
    "\n",
    "    data['user_id'] = data['user_id'].map(user_id_map)\n",
    "    data['item_id'] = data['item_id'].map(item_id_map)\n",
    "\n",
    "    # 1.2 划分训练集和测试集\n",
    "    train_data = []\n",
    "    test_data = []\n",
    "    for user, group in data.groupby('user_id'):\n",
    "        n_test_items = max(1, int(len(group) * test_size))\n",
    "        test_items = group.sample(n=n_test_items)\n",
    "        train_items = group.drop(test_items.index)\n",
    "        train_data.append(train_items)\n",
    "        test_data.append(test_items)\n",
    "\n",
    "    return data, user_id_map, item_id_map, pd.concat(train_data), pd.concat(test_data)"
   ],
   "metadata": {
    "collapsed": false,
    "ExecuteTime": {
     "end_time": "2024-07-24T07:01:29.631512300Z",
     "start_time": "2024-07-24T07:01:29.625527100Z"
    }
   },
   "id": "caa100fb981e8f4a",
   "execution_count": 74
  },
  {
   "cell_type": "code",
   "outputs": [],
   "source": [
    "def build_user_item_matrix(data,user_id_map,item_id_map):\n",
    "    user_item_matrix = np.zeros((len(user_id_map),len(item_id_map)))\n",
    "    for line in data.itertuples():\n",
    "        user_item_matrix[line[1]-1,line[2]-1] = line[3]\n",
    "    return pd.DataFrame(user_item_matrix,index=user_id_map.values(),columns=item_id_map.values())"
   ],
   "metadata": {
    "collapsed": false,
    "ExecuteTime": {
     "end_time": "2024-07-24T07:36:26.131143400Z",
     "start_time": "2024-07-24T07:36:26.085109100Z"
    }
   },
   "id": "aa05debf172653e0",
   "execution_count": 82
  },
  {
   "cell_type": "code",
   "outputs": [],
   "source": [
    "def compute_user_similarity(user_item_matrix,method=\"cos\"):\n",
    "    if method == 'cos':\n",
    "        similarity = cosine_similarity(user_item_matrix)\n",
    "    else: # method == 'pearson':\n",
    "        similarity = 1 - pairwise_distances(user_item_matrix,metric='correlation')\n",
    "    return pd.DataFrame(similarity,index=user_item_matrix.index,columns=user_item_matrix.index)"
   ],
   "metadata": {
    "collapsed": false,
    "ExecuteTime": {
     "end_time": "2024-07-24T06:06:48.891945200Z",
     "start_time": "2024-07-24T06:06:48.870955400Z"
    }
   },
   "id": "e882043786af6328",
   "execution_count": 4
  },
  {
   "cell_type": "code",
   "outputs": [],
   "source": [
    "def compute_item_similarity(user_item_matrix,method=\"cos\"):\n",
    "    if method == 'cos':\n",
    "        similarity = cosine_similarity(user_item_matrix.T)\n",
    "    else: # method == 'pearson':\n",
    "        similarity = 1 - pairwise_distances(user_item_matrix.T,metric='correlation')\n",
    "    return pd.DataFrame(similarity,index=user_item_matrix.T.index,columns=user_item_matrix.T.index)"
   ],
   "metadata": {
    "collapsed": false,
    "ExecuteTime": {
     "end_time": "2024-07-24T09:11:51.181430100Z",
     "start_time": "2024-07-24T09:11:51.162433400Z"
    }
   },
   "id": "837d33b350729e18",
   "execution_count": 122
  },
  {
   "cell_type": "code",
   "outputs": [],
   "source": [
    "def get_top_n_recommendations(user_item_matrix, similarity, n=10, top_k=10, method=\"user\"):\n",
    "    recommendations = defaultdict(list)\n",
    "    # 3.1 基于用户的top-k推荐\n",
    "    if method == \"user\":\n",
    "        user_ids = user_item_matrix.index\n",
    "        # 获取前n个相似度最高的用户\n",
    "        for user_id in tqdm(user_ids, desc=\"Processing users\"):\n",
    "            user_vector = user_item_matrix.iloc[user_id]\n",
    "            similar_users = similarity[user_id].argsort()[::-1][1:top_k + 1]  # 取前K个最相似的用户（除了自己）\n",
    "            # 遍历item，获取top-k最高得分的item\n",
    "            for item_id in user_item_matrix.columns:\n",
    "                if user_vector[item_id] == 0:  # 用户未交互过的物品\n",
    "                    similar_users_ratings = user_item_matrix.iloc[similar_users, item_id]\n",
    "                    similar_users_similarities = similarity.iloc[user_id, similar_users]\n",
    "                    # 加权平均得分\n",
    "                    score = np.sum(similar_users_ratings * similar_users_similarities) / np.sum(\n",
    "                        similar_users_similarities)\n",
    "                    if score > 0:\n",
    "                        recommendations[user_id].append((item_id, score))\n",
    "            recommendations[user_id] = sorted(recommendations[user_id], key=lambda x: x[1], reverse=True)[:n]\n",
    "    # 3.2 基于物品的top-k推荐\n",
    "    elif method == \"item\":\n",
    "        user_ids = user_item_matrix.index\n",
    "        for user_id in tqdm(user_ids, desc=\"Processing users\"):\n",
    "            # 获取交互过的物品和候选物品\n",
    "            user_vector = user_item_matrix.iloc[user_id]\n",
    "            interacted_items = user_vector[user_vector > 0].index\n",
    "            candidate_items = user_item_matrix.columns[~user_item_matrix.columns.isin(interacted_items)]\n",
    "\n",
    "            # 计算得分\n",
    "            item_scores = defaultdict(float)\n",
    "            for item in candidate_items:\n",
    "                for interacted_item in interacted_items:\n",
    "                    item_scores[item] += similarity.iloc[item, interacted_item] * user_vector[interacted_item]\n",
    "\n",
    "            top_items = sorted(item_scores.items(), key=lambda x: x[1], reverse=True)[:top_k]\n",
    "            recommendations[user_id] = top_items\n",
    "    return recommendations"
   ],
   "metadata": {
    "collapsed": false,
    "ExecuteTime": {
     "end_time": "2024-07-24T09:13:53.532788700Z",
     "start_time": "2024-07-24T09:13:53.508751900Z"
    }
   },
   "id": "e2fb0145d7d1b777",
   "execution_count": 127
  },
  {
   "cell_type": "code",
   "outputs": [],
   "source": [
    "def evaluate(recommendations, test_data, k=10):\n",
    "    precision = defaultdict(float)\n",
    "    recall = defaultdict(float)\n",
    "\n",
    "    for user, user_recs in recommendations.items():\n",
    "        user_test = set(test_data[test_data['user_id'] == user]['item_id']) # 测试集中的用户交互\n",
    "        recs = set([item for item, _ in user_recs[:k]]) # 推荐的物品\n",
    "\n",
    "        if len(recs) > 0:\n",
    "            precision[user] = len(recs & user_test) / len(recs)\n",
    "        if len(user_test) > 0:\n",
    "            recall[user] = len(recs & user_test) / len(user_test)\n",
    "\n",
    "    avg_precision = np.mean(list(precision.values()))\n",
    "    avg_recall = np.mean(list(recall.values()))\n",
    "\n",
    "    return avg_precision, avg_recall"
   ],
   "metadata": {
    "collapsed": false,
    "ExecuteTime": {
     "end_time": "2024-07-24T06:06:48.949943300Z",
     "start_time": "2024-07-24T06:06:48.936946700Z"
    }
   },
   "id": "5f7a3685c85a6d54",
   "execution_count": 7
  },
  {
   "cell_type": "code",
   "outputs": [],
   "source": [
    "def convert_recommendations_to_original_ids(recommendations, user_id_map, item_id_map):\n",
    "    original_recommendations = {}\n",
    "    reverse_user_id_map = {v: k for k, v in user_id_map.items()}\n",
    "    reverse_item_id_map = {v: k for k, v in item_id_map.items()}\n",
    "\n",
    "    for user, recs in recommendations.items():\n",
    "        original_user_id = int(reverse_user_id_map[user])\n",
    "        original_recs = [(int(reverse_item_id_map[item]), score) for item, score in recs]\n",
    "        original_recommendations[original_user_id] = original_recs\n",
    "\n",
    "    return original_recommendations"
   ],
   "metadata": {
    "collapsed": false,
    "ExecuteTime": {
     "end_time": "2024-07-24T09:52:41.780268200Z",
     "start_time": "2024-07-24T09:52:41.762270100Z"
    }
   },
   "id": "700d464660b0b9a1",
   "execution_count": 142
  },
  {
   "cell_type": "code",
   "outputs": [],
   "source": [
    "data, user_id_map, item_id_map, train_data, test_data = load_data_and_map_ids('../data/training.txt')"
   ],
   "metadata": {
    "collapsed": false,
    "ExecuteTime": {
     "end_time": "2024-07-24T07:36:47.835308300Z",
     "start_time": "2024-07-24T07:36:46.860022700Z"
    }
   },
   "id": "a46fba98f8d53de2",
   "execution_count": 83
  },
  {
   "cell_type": "code",
   "outputs": [
    {
     "data": {
      "text/plain": "       user_id  item_id  click\n0            0        0      1\n1            1        1      1\n2            2        2      1\n3            3        3      1\n4            4        4      1\n...        ...      ...    ...\n44229       88      600      1\n44230      847      401      1\n44231      421       43      1\n44232      790      286      1\n44233      695      123      1\n\n[44234 rows x 3 columns]",
      "text/html": "<div>\n<style scoped>\n    .dataframe tbody tr th:only-of-type {\n        vertical-align: middle;\n    }\n\n    .dataframe tbody tr th {\n        vertical-align: top;\n    }\n\n    .dataframe thead th {\n        text-align: right;\n    }\n</style>\n<table border=\"1\" class=\"dataframe\">\n  <thead>\n    <tr style=\"text-align: right;\">\n      <th></th>\n      <th>user_id</th>\n      <th>item_id</th>\n      <th>click</th>\n    </tr>\n  </thead>\n  <tbody>\n    <tr>\n      <th>0</th>\n      <td>0</td>\n      <td>0</td>\n      <td>1</td>\n    </tr>\n    <tr>\n      <th>1</th>\n      <td>1</td>\n      <td>1</td>\n      <td>1</td>\n    </tr>\n    <tr>\n      <th>2</th>\n      <td>2</td>\n      <td>2</td>\n      <td>1</td>\n    </tr>\n    <tr>\n      <th>3</th>\n      <td>3</td>\n      <td>3</td>\n      <td>1</td>\n    </tr>\n    <tr>\n      <th>4</th>\n      <td>4</td>\n      <td>4</td>\n      <td>1</td>\n    </tr>\n    <tr>\n      <th>...</th>\n      <td>...</td>\n      <td>...</td>\n      <td>...</td>\n    </tr>\n    <tr>\n      <th>44229</th>\n      <td>88</td>\n      <td>600</td>\n      <td>1</td>\n    </tr>\n    <tr>\n      <th>44230</th>\n      <td>847</td>\n      <td>401</td>\n      <td>1</td>\n    </tr>\n    <tr>\n      <th>44231</th>\n      <td>421</td>\n      <td>43</td>\n      <td>1</td>\n    </tr>\n    <tr>\n      <th>44232</th>\n      <td>790</td>\n      <td>286</td>\n      <td>1</td>\n    </tr>\n    <tr>\n      <th>44233</th>\n      <td>695</td>\n      <td>123</td>\n      <td>1</td>\n    </tr>\n  </tbody>\n</table>\n<p>44234 rows × 3 columns</p>\n</div>"
     },
     "execution_count": 84,
     "metadata": {},
     "output_type": "execute_result"
    }
   ],
   "source": [
    "data"
   ],
   "metadata": {
    "collapsed": false,
    "ExecuteTime": {
     "end_time": "2024-07-24T07:36:49.344686800Z",
     "start_time": "2024-07-24T07:36:49.328692100Z"
    }
   },
   "id": "472b4c39f9e7c71e",
   "execution_count": 84
  },
  {
   "cell_type": "code",
   "outputs": [],
   "source": [
    "user_item_matrix = build_user_item_matrix(train_data,user_id_map,item_id_map)"
   ],
   "metadata": {
    "collapsed": false,
    "ExecuteTime": {
     "end_time": "2024-07-24T07:37:00.685704Z",
     "start_time": "2024-07-24T07:37:00.621670300Z"
    }
   },
   "id": "99f1415f0bf39a64",
   "execution_count": 85
  },
  {
   "cell_type": "code",
   "outputs": [
    {
     "data": {
      "text/plain": "     0     1     2     3     4     5     6     7     8     9     ...  1402  \\\n0     1.0   0.0   1.0   0.0   0.0   0.0   0.0   0.0   1.0   1.0  ...   0.0   \n1     1.0   0.0   0.0   0.0   0.0   0.0   0.0   0.0   1.0   0.0  ...   0.0   \n2     0.0   0.0   1.0   0.0   0.0   1.0   0.0   0.0   1.0   1.0  ...   0.0   \n3     0.0   0.0   0.0   0.0   0.0   0.0   0.0   0.0   0.0   0.0  ...   0.0   \n4     0.0   0.0   0.0   0.0   1.0   0.0   0.0   0.0   1.0   1.0  ...   0.0   \n..    ...   ...   ...   ...   ...   ...   ...   ...   ...   ...  ...   ...   \n937   0.0   0.0   0.0   0.0   0.0   0.0   0.0   0.0   0.0   0.0  ...   0.0   \n938   0.0   0.0   0.0   0.0   0.0   0.0   0.0   0.0   0.0   0.0  ...   0.0   \n939   0.0   0.0   0.0   0.0   0.0   0.0   0.0   0.0   0.0   0.0  ...   0.0   \n940   0.0   0.0   0.0   0.0   0.0   0.0   0.0   0.0   0.0   0.0  ...   0.0   \n941   0.0   0.0   0.0   0.0   0.0   0.0   0.0   1.0   1.0   0.0  ...   0.0   \n\n     1403  1404  1405  1406  1407  1408  1409  1410  1411  \n0     0.0   0.0   0.0   0.0   0.0   0.0   0.0   0.0   0.0  \n1     0.0   0.0   0.0   0.0   0.0   0.0   0.0   0.0   0.0  \n2     0.0   0.0   0.0   0.0   0.0   0.0   0.0   0.0   0.0  \n3     0.0   0.0   0.0   0.0   0.0   0.0   0.0   0.0   0.0  \n4     0.0   0.0   0.0   0.0   0.0   0.0   0.0   0.0   0.0  \n..    ...   ...   ...   ...   ...   ...   ...   ...   ...  \n937   0.0   0.0   0.0   0.0   0.0   0.0   0.0   0.0   0.0  \n938   0.0   0.0   0.0   0.0   0.0   0.0   0.0   0.0   0.0  \n939   0.0   0.0   0.0   0.0   0.0   0.0   0.0   0.0   0.0  \n940   0.0   0.0   0.0   0.0   0.0   0.0   0.0   0.0   0.0  \n941   0.0   0.0   0.0   0.0   0.0   0.0   0.0   0.0   0.0  \n\n[942 rows x 1412 columns]",
      "text/html": "<div>\n<style scoped>\n    .dataframe tbody tr th:only-of-type {\n        vertical-align: middle;\n    }\n\n    .dataframe tbody tr th {\n        vertical-align: top;\n    }\n\n    .dataframe thead th {\n        text-align: right;\n    }\n</style>\n<table border=\"1\" class=\"dataframe\">\n  <thead>\n    <tr style=\"text-align: right;\">\n      <th></th>\n      <th>0</th>\n      <th>1</th>\n      <th>2</th>\n      <th>3</th>\n      <th>4</th>\n      <th>5</th>\n      <th>6</th>\n      <th>7</th>\n      <th>8</th>\n      <th>9</th>\n      <th>...</th>\n      <th>1402</th>\n      <th>1403</th>\n      <th>1404</th>\n      <th>1405</th>\n      <th>1406</th>\n      <th>1407</th>\n      <th>1408</th>\n      <th>1409</th>\n      <th>1410</th>\n      <th>1411</th>\n    </tr>\n  </thead>\n  <tbody>\n    <tr>\n      <th>0</th>\n      <td>1.0</td>\n      <td>0.0</td>\n      <td>1.0</td>\n      <td>0.0</td>\n      <td>0.0</td>\n      <td>0.0</td>\n      <td>0.0</td>\n      <td>0.0</td>\n      <td>1.0</td>\n      <td>1.0</td>\n      <td>...</td>\n      <td>0.0</td>\n      <td>0.0</td>\n      <td>0.0</td>\n      <td>0.0</td>\n      <td>0.0</td>\n      <td>0.0</td>\n      <td>0.0</td>\n      <td>0.0</td>\n      <td>0.0</td>\n      <td>0.0</td>\n    </tr>\n    <tr>\n      <th>1</th>\n      <td>1.0</td>\n      <td>0.0</td>\n      <td>0.0</td>\n      <td>0.0</td>\n      <td>0.0</td>\n      <td>0.0</td>\n      <td>0.0</td>\n      <td>0.0</td>\n      <td>1.0</td>\n      <td>0.0</td>\n      <td>...</td>\n      <td>0.0</td>\n      <td>0.0</td>\n      <td>0.0</td>\n      <td>0.0</td>\n      <td>0.0</td>\n      <td>0.0</td>\n      <td>0.0</td>\n      <td>0.0</td>\n      <td>0.0</td>\n      <td>0.0</td>\n    </tr>\n    <tr>\n      <th>2</th>\n      <td>0.0</td>\n      <td>0.0</td>\n      <td>1.0</td>\n      <td>0.0</td>\n      <td>0.0</td>\n      <td>1.0</td>\n      <td>0.0</td>\n      <td>0.0</td>\n      <td>1.0</td>\n      <td>1.0</td>\n      <td>...</td>\n      <td>0.0</td>\n      <td>0.0</td>\n      <td>0.0</td>\n      <td>0.0</td>\n      <td>0.0</td>\n      <td>0.0</td>\n      <td>0.0</td>\n      <td>0.0</td>\n      <td>0.0</td>\n      <td>0.0</td>\n    </tr>\n    <tr>\n      <th>3</th>\n      <td>0.0</td>\n      <td>0.0</td>\n      <td>0.0</td>\n      <td>0.0</td>\n      <td>0.0</td>\n      <td>0.0</td>\n      <td>0.0</td>\n      <td>0.0</td>\n      <td>0.0</td>\n      <td>0.0</td>\n      <td>...</td>\n      <td>0.0</td>\n      <td>0.0</td>\n      <td>0.0</td>\n      <td>0.0</td>\n      <td>0.0</td>\n      <td>0.0</td>\n      <td>0.0</td>\n      <td>0.0</td>\n      <td>0.0</td>\n      <td>0.0</td>\n    </tr>\n    <tr>\n      <th>4</th>\n      <td>0.0</td>\n      <td>0.0</td>\n      <td>0.0</td>\n      <td>0.0</td>\n      <td>1.0</td>\n      <td>0.0</td>\n      <td>0.0</td>\n      <td>0.0</td>\n      <td>1.0</td>\n      <td>1.0</td>\n      <td>...</td>\n      <td>0.0</td>\n      <td>0.0</td>\n      <td>0.0</td>\n      <td>0.0</td>\n      <td>0.0</td>\n      <td>0.0</td>\n      <td>0.0</td>\n      <td>0.0</td>\n      <td>0.0</td>\n      <td>0.0</td>\n    </tr>\n    <tr>\n      <th>...</th>\n      <td>...</td>\n      <td>...</td>\n      <td>...</td>\n      <td>...</td>\n      <td>...</td>\n      <td>...</td>\n      <td>...</td>\n      <td>...</td>\n      <td>...</td>\n      <td>...</td>\n      <td>...</td>\n      <td>...</td>\n      <td>...</td>\n      <td>...</td>\n      <td>...</td>\n      <td>...</td>\n      <td>...</td>\n      <td>...</td>\n      <td>...</td>\n      <td>...</td>\n      <td>...</td>\n    </tr>\n    <tr>\n      <th>937</th>\n      <td>0.0</td>\n      <td>0.0</td>\n      <td>0.0</td>\n      <td>0.0</td>\n      <td>0.0</td>\n      <td>0.0</td>\n      <td>0.0</td>\n      <td>0.0</td>\n      <td>0.0</td>\n      <td>0.0</td>\n      <td>...</td>\n      <td>0.0</td>\n      <td>0.0</td>\n      <td>0.0</td>\n      <td>0.0</td>\n      <td>0.0</td>\n      <td>0.0</td>\n      <td>0.0</td>\n      <td>0.0</td>\n      <td>0.0</td>\n      <td>0.0</td>\n    </tr>\n    <tr>\n      <th>938</th>\n      <td>0.0</td>\n      <td>0.0</td>\n      <td>0.0</td>\n      <td>0.0</td>\n      <td>0.0</td>\n      <td>0.0</td>\n      <td>0.0</td>\n      <td>0.0</td>\n      <td>0.0</td>\n      <td>0.0</td>\n      <td>...</td>\n      <td>0.0</td>\n      <td>0.0</td>\n      <td>0.0</td>\n      <td>0.0</td>\n      <td>0.0</td>\n      <td>0.0</td>\n      <td>0.0</td>\n      <td>0.0</td>\n      <td>0.0</td>\n      <td>0.0</td>\n    </tr>\n    <tr>\n      <th>939</th>\n      <td>0.0</td>\n      <td>0.0</td>\n      <td>0.0</td>\n      <td>0.0</td>\n      <td>0.0</td>\n      <td>0.0</td>\n      <td>0.0</td>\n      <td>0.0</td>\n      <td>0.0</td>\n      <td>0.0</td>\n      <td>...</td>\n      <td>0.0</td>\n      <td>0.0</td>\n      <td>0.0</td>\n      <td>0.0</td>\n      <td>0.0</td>\n      <td>0.0</td>\n      <td>0.0</td>\n      <td>0.0</td>\n      <td>0.0</td>\n      <td>0.0</td>\n    </tr>\n    <tr>\n      <th>940</th>\n      <td>0.0</td>\n      <td>0.0</td>\n      <td>0.0</td>\n      <td>0.0</td>\n      <td>0.0</td>\n      <td>0.0</td>\n      <td>0.0</td>\n      <td>0.0</td>\n      <td>0.0</td>\n      <td>0.0</td>\n      <td>...</td>\n      <td>0.0</td>\n      <td>0.0</td>\n      <td>0.0</td>\n      <td>0.0</td>\n      <td>0.0</td>\n      <td>0.0</td>\n      <td>0.0</td>\n      <td>0.0</td>\n      <td>0.0</td>\n      <td>0.0</td>\n    </tr>\n    <tr>\n      <th>941</th>\n      <td>0.0</td>\n      <td>0.0</td>\n      <td>0.0</td>\n      <td>0.0</td>\n      <td>0.0</td>\n      <td>0.0</td>\n      <td>0.0</td>\n      <td>1.0</td>\n      <td>1.0</td>\n      <td>0.0</td>\n      <td>...</td>\n      <td>0.0</td>\n      <td>0.0</td>\n      <td>0.0</td>\n      <td>0.0</td>\n      <td>0.0</td>\n      <td>0.0</td>\n      <td>0.0</td>\n      <td>0.0</td>\n      <td>0.0</td>\n      <td>0.0</td>\n    </tr>\n  </tbody>\n</table>\n<p>942 rows × 1412 columns</p>\n</div>"
     },
     "execution_count": 86,
     "metadata": {},
     "output_type": "execute_result"
    }
   ],
   "source": [
    "user_item_matrix"
   ],
   "metadata": {
    "collapsed": false,
    "ExecuteTime": {
     "end_time": "2024-07-24T07:37:01.954456800Z",
     "start_time": "2024-07-24T07:37:01.894464300Z"
    }
   },
   "id": "f5b5bbddf6c50bd8",
   "execution_count": 86
  },
  {
   "cell_type": "code",
   "outputs": [],
   "source": [
    "user_similarity = compute_user_similarity(user_item_matrix,method=\"pearson\")"
   ],
   "metadata": {
    "collapsed": false,
    "ExecuteTime": {
     "end_time": "2024-07-24T07:37:13.454016900Z",
     "start_time": "2024-07-24T07:37:12.762501200Z"
    }
   },
   "id": "19cb06879e3b4252",
   "execution_count": 87
  },
  {
   "cell_type": "code",
   "outputs": [
    {
     "data": {
      "text/plain": "          0         1         2         3         4         5         6    \\\n0    1.000000  0.110227  0.197857  0.036433  0.168030  0.096915  0.066873   \n1    0.110227  1.000000  0.063055  0.000224  0.070822  0.075874  0.059616   \n2    0.197857  0.063055  1.000000  0.050247  0.135557  0.107442  0.007235   \n3    0.036433  0.000224  0.050247  1.000000 -0.021008  0.041054  0.018264   \n4    0.168030  0.070822  0.135557 -0.021008  1.000000  0.071272  0.037117   \n..        ...       ...       ...       ...       ...       ...       ...   \n937  0.034926  0.040851  0.048605 -0.011792  0.070502  0.020450 -0.011792   \n938 -0.011438 -0.018420  0.028540 -0.009121 -0.018894  0.036159 -0.009121   \n939 -0.011438 -0.018420  0.028540 -0.009121 -0.018894 -0.014694 -0.009121   \n940 -0.006594 -0.010620  0.068664 -0.005259 -0.010893 -0.008471 -0.005259   \n941  0.103466  0.020605  0.144524  0.114797  0.046646  0.011571  0.030035   \n\n          7         8         9    ...       932       933       934  \\\n0    0.101349  0.138053  0.070612  ... -0.013178  0.062053 -0.014024   \n1    0.106813  0.061542  0.017222  ...  0.028595  0.068900  0.011485   \n2   -0.011838  0.033966  0.133773  ...  0.025690  0.057438  0.016487   \n3    0.099992  0.092729  0.038498  ... -0.000878  0.069015 -0.011183   \n4   -0.002016  0.118193  0.078563  ...  0.025339  0.064539  0.043520   \n..        ...       ...       ...  ...       ...       ...       ...   \n937  0.088896  0.028791 -0.014420  ...  0.027195 -0.018402  0.099359   \n938 -0.016009 -0.021586 -0.011154  ...  0.100514  0.038106  0.131577   \n939  0.078179 -0.021586 -0.011154  ... -0.013027  0.038106 -0.005232   \n940  0.072224 -0.012445 -0.006431  ... -0.007510  0.082320 -0.003016   \n941  0.070696  0.041257  0.060917  ...  0.063072  0.126102 -0.015186   \n\n          935       936       937       938       939       940       941  \n0   -0.020987  0.051916  0.034926 -0.011438 -0.011438 -0.006594  0.103466  \n1    0.057979 -0.032932  0.040851 -0.018420 -0.018420 -0.010620  0.020605  \n2   -0.030715 -0.004363  0.048605  0.028540  0.028540  0.068664  0.144524  \n3    0.027026  0.028576 -0.011792 -0.009121 -0.009121 -0.005259  0.114797  \n4   -0.012214  0.035312  0.070502 -0.018894 -0.018894 -0.010893  0.046646  \n..        ...       ...       ...       ...       ...       ...       ...  \n937  0.061347  0.063437  1.000000 -0.005517  0.124318  0.221381  0.076275  \n938  0.176443 -0.007629 -0.005517  1.000000 -0.004267 -0.002460  0.047101  \n939  0.084306 -0.007629  0.124318 -0.004267  1.000000  0.576531  0.047101  \n940  0.154844 -0.004399  0.221381 -0.002460  0.576531  1.000000 -0.007141  \n941  0.010019  0.112193  0.076275  0.047101  0.047101 -0.007141  1.000000  \n\n[942 rows x 942 columns]",
      "text/html": "<div>\n<style scoped>\n    .dataframe tbody tr th:only-of-type {\n        vertical-align: middle;\n    }\n\n    .dataframe tbody tr th {\n        vertical-align: top;\n    }\n\n    .dataframe thead th {\n        text-align: right;\n    }\n</style>\n<table border=\"1\" class=\"dataframe\">\n  <thead>\n    <tr style=\"text-align: right;\">\n      <th></th>\n      <th>0</th>\n      <th>1</th>\n      <th>2</th>\n      <th>3</th>\n      <th>4</th>\n      <th>5</th>\n      <th>6</th>\n      <th>7</th>\n      <th>8</th>\n      <th>9</th>\n      <th>...</th>\n      <th>932</th>\n      <th>933</th>\n      <th>934</th>\n      <th>935</th>\n      <th>936</th>\n      <th>937</th>\n      <th>938</th>\n      <th>939</th>\n      <th>940</th>\n      <th>941</th>\n    </tr>\n  </thead>\n  <tbody>\n    <tr>\n      <th>0</th>\n      <td>1.000000</td>\n      <td>0.110227</td>\n      <td>0.197857</td>\n      <td>0.036433</td>\n      <td>0.168030</td>\n      <td>0.096915</td>\n      <td>0.066873</td>\n      <td>0.101349</td>\n      <td>0.138053</td>\n      <td>0.070612</td>\n      <td>...</td>\n      <td>-0.013178</td>\n      <td>0.062053</td>\n      <td>-0.014024</td>\n      <td>-0.020987</td>\n      <td>0.051916</td>\n      <td>0.034926</td>\n      <td>-0.011438</td>\n      <td>-0.011438</td>\n      <td>-0.006594</td>\n      <td>0.103466</td>\n    </tr>\n    <tr>\n      <th>1</th>\n      <td>0.110227</td>\n      <td>1.000000</td>\n      <td>0.063055</td>\n      <td>0.000224</td>\n      <td>0.070822</td>\n      <td>0.075874</td>\n      <td>0.059616</td>\n      <td>0.106813</td>\n      <td>0.061542</td>\n      <td>0.017222</td>\n      <td>...</td>\n      <td>0.028595</td>\n      <td>0.068900</td>\n      <td>0.011485</td>\n      <td>0.057979</td>\n      <td>-0.032932</td>\n      <td>0.040851</td>\n      <td>-0.018420</td>\n      <td>-0.018420</td>\n      <td>-0.010620</td>\n      <td>0.020605</td>\n    </tr>\n    <tr>\n      <th>2</th>\n      <td>0.197857</td>\n      <td>0.063055</td>\n      <td>1.000000</td>\n      <td>0.050247</td>\n      <td>0.135557</td>\n      <td>0.107442</td>\n      <td>0.007235</td>\n      <td>-0.011838</td>\n      <td>0.033966</td>\n      <td>0.133773</td>\n      <td>...</td>\n      <td>0.025690</td>\n      <td>0.057438</td>\n      <td>0.016487</td>\n      <td>-0.030715</td>\n      <td>-0.004363</td>\n      <td>0.048605</td>\n      <td>0.028540</td>\n      <td>0.028540</td>\n      <td>0.068664</td>\n      <td>0.144524</td>\n    </tr>\n    <tr>\n      <th>3</th>\n      <td>0.036433</td>\n      <td>0.000224</td>\n      <td>0.050247</td>\n      <td>1.000000</td>\n      <td>-0.021008</td>\n      <td>0.041054</td>\n      <td>0.018264</td>\n      <td>0.099992</td>\n      <td>0.092729</td>\n      <td>0.038498</td>\n      <td>...</td>\n      <td>-0.000878</td>\n      <td>0.069015</td>\n      <td>-0.011183</td>\n      <td>0.027026</td>\n      <td>0.028576</td>\n      <td>-0.011792</td>\n      <td>-0.009121</td>\n      <td>-0.009121</td>\n      <td>-0.005259</td>\n      <td>0.114797</td>\n    </tr>\n    <tr>\n      <th>4</th>\n      <td>0.168030</td>\n      <td>0.070822</td>\n      <td>0.135557</td>\n      <td>-0.021008</td>\n      <td>1.000000</td>\n      <td>0.071272</td>\n      <td>0.037117</td>\n      <td>-0.002016</td>\n      <td>0.118193</td>\n      <td>0.078563</td>\n      <td>...</td>\n      <td>0.025339</td>\n      <td>0.064539</td>\n      <td>0.043520</td>\n      <td>-0.012214</td>\n      <td>0.035312</td>\n      <td>0.070502</td>\n      <td>-0.018894</td>\n      <td>-0.018894</td>\n      <td>-0.010893</td>\n      <td>0.046646</td>\n    </tr>\n    <tr>\n      <th>...</th>\n      <td>...</td>\n      <td>...</td>\n      <td>...</td>\n      <td>...</td>\n      <td>...</td>\n      <td>...</td>\n      <td>...</td>\n      <td>...</td>\n      <td>...</td>\n      <td>...</td>\n      <td>...</td>\n      <td>...</td>\n      <td>...</td>\n      <td>...</td>\n      <td>...</td>\n      <td>...</td>\n      <td>...</td>\n      <td>...</td>\n      <td>...</td>\n      <td>...</td>\n      <td>...</td>\n    </tr>\n    <tr>\n      <th>937</th>\n      <td>0.034926</td>\n      <td>0.040851</td>\n      <td>0.048605</td>\n      <td>-0.011792</td>\n      <td>0.070502</td>\n      <td>0.020450</td>\n      <td>-0.011792</td>\n      <td>0.088896</td>\n      <td>0.028791</td>\n      <td>-0.014420</td>\n      <td>...</td>\n      <td>0.027195</td>\n      <td>-0.018402</td>\n      <td>0.099359</td>\n      <td>0.061347</td>\n      <td>0.063437</td>\n      <td>1.000000</td>\n      <td>-0.005517</td>\n      <td>0.124318</td>\n      <td>0.221381</td>\n      <td>0.076275</td>\n    </tr>\n    <tr>\n      <th>938</th>\n      <td>-0.011438</td>\n      <td>-0.018420</td>\n      <td>0.028540</td>\n      <td>-0.009121</td>\n      <td>-0.018894</td>\n      <td>0.036159</td>\n      <td>-0.009121</td>\n      <td>-0.016009</td>\n      <td>-0.021586</td>\n      <td>-0.011154</td>\n      <td>...</td>\n      <td>0.100514</td>\n      <td>0.038106</td>\n      <td>0.131577</td>\n      <td>0.176443</td>\n      <td>-0.007629</td>\n      <td>-0.005517</td>\n      <td>1.000000</td>\n      <td>-0.004267</td>\n      <td>-0.002460</td>\n      <td>0.047101</td>\n    </tr>\n    <tr>\n      <th>939</th>\n      <td>-0.011438</td>\n      <td>-0.018420</td>\n      <td>0.028540</td>\n      <td>-0.009121</td>\n      <td>-0.018894</td>\n      <td>-0.014694</td>\n      <td>-0.009121</td>\n      <td>0.078179</td>\n      <td>-0.021586</td>\n      <td>-0.011154</td>\n      <td>...</td>\n      <td>-0.013027</td>\n      <td>0.038106</td>\n      <td>-0.005232</td>\n      <td>0.084306</td>\n      <td>-0.007629</td>\n      <td>0.124318</td>\n      <td>-0.004267</td>\n      <td>1.000000</td>\n      <td>0.576531</td>\n      <td>0.047101</td>\n    </tr>\n    <tr>\n      <th>940</th>\n      <td>-0.006594</td>\n      <td>-0.010620</td>\n      <td>0.068664</td>\n      <td>-0.005259</td>\n      <td>-0.010893</td>\n      <td>-0.008471</td>\n      <td>-0.005259</td>\n      <td>0.072224</td>\n      <td>-0.012445</td>\n      <td>-0.006431</td>\n      <td>...</td>\n      <td>-0.007510</td>\n      <td>0.082320</td>\n      <td>-0.003016</td>\n      <td>0.154844</td>\n      <td>-0.004399</td>\n      <td>0.221381</td>\n      <td>-0.002460</td>\n      <td>0.576531</td>\n      <td>1.000000</td>\n      <td>-0.007141</td>\n    </tr>\n    <tr>\n      <th>941</th>\n      <td>0.103466</td>\n      <td>0.020605</td>\n      <td>0.144524</td>\n      <td>0.114797</td>\n      <td>0.046646</td>\n      <td>0.011571</td>\n      <td>0.030035</td>\n      <td>0.070696</td>\n      <td>0.041257</td>\n      <td>0.060917</td>\n      <td>...</td>\n      <td>0.063072</td>\n      <td>0.126102</td>\n      <td>-0.015186</td>\n      <td>0.010019</td>\n      <td>0.112193</td>\n      <td>0.076275</td>\n      <td>0.047101</td>\n      <td>0.047101</td>\n      <td>-0.007141</td>\n      <td>1.000000</td>\n    </tr>\n  </tbody>\n</table>\n<p>942 rows × 942 columns</p>\n</div>"
     },
     "execution_count": 88,
     "metadata": {},
     "output_type": "execute_result"
    }
   ],
   "source": [
    "user_similarity"
   ],
   "metadata": {
    "collapsed": false,
    "ExecuteTime": {
     "end_time": "2024-07-24T07:37:14.127810500Z",
     "start_time": "2024-07-24T07:37:14.075812300Z"
    }
   },
   "id": "626e5474dea926c8",
   "execution_count": 88
  },
  {
   "cell_type": "code",
   "outputs": [],
   "source": [
    "item_similarity = compute_item_similarity(user_item_matrix)"
   ],
   "metadata": {
    "collapsed": false,
    "ExecuteTime": {
     "end_time": "2024-07-24T09:11:59.494637200Z",
     "start_time": "2024-07-24T09:11:59.445641200Z"
    }
   },
   "id": "a56616396d3285fa",
   "execution_count": 123
  },
  {
   "cell_type": "code",
   "outputs": [
    {
     "data": {
      "text/plain": "          0         1         2         3         4         5         6     \\\n0     1.000000  0.120483  0.114770  0.041204  0.000000  0.224702  0.087121   \n1     0.120483  1.000000  0.081650  0.102598  0.000000  0.046625  0.000000   \n2     0.114770  0.081650  1.000000  0.083771  0.069007  0.171312  0.132842   \n3     0.041204  0.102598  0.083771  1.000000  0.086711  0.095673  0.166924   \n4     0.000000  0.000000  0.069007  0.086711  1.000000  0.000000  0.000000   \n...        ...       ...       ...       ...       ...       ...       ...   \n1407  0.000000  0.000000  0.000000  0.000000  0.000000  0.000000  0.000000   \n1408  0.000000  0.000000  0.000000  0.000000  0.000000  0.000000  0.000000   \n1409  0.000000  0.000000  0.000000  0.000000  0.000000  0.000000  0.000000   \n1410  0.000000  0.000000  0.000000  0.000000  0.000000  0.000000  0.000000   \n1411  0.130369  0.069561  0.094660  0.095157  0.000000  0.021622  0.125749   \n\n          7         8         9     ...  1402      1403      1404  1405  1406  \\\n0     0.054708  0.212429  0.280877  ...   0.0  0.000000  0.000000   0.0   0.0   \n1     0.045408  0.165295  0.116563  ...   0.0  0.000000  0.000000   0.0   0.0   \n2     0.176107  0.242933  0.199864  ...   0.0  0.091287  0.091287   0.0   0.0   \n3     0.046587  0.101753  0.023918  ...   0.0  0.000000  0.000000   0.0   0.0   \n4     0.076753  0.083820  0.118217  ...   0.0  0.000000  0.000000   0.0   0.0   \n...        ...       ...       ...  ...   ...       ...       ...   ...   ...   \n1407  0.000000  0.073922  0.000000  ...   0.0  0.000000  0.000000   0.0   0.0   \n1408  0.000000  0.000000  0.000000  ...   0.0  0.000000  0.000000   0.0   0.0   \n1409  0.000000  0.000000  0.000000  ...   0.0  0.000000  0.000000   0.0   0.0   \n1410  0.000000  0.000000  0.000000  ...   1.0  0.000000  0.000000   0.0   0.0   \n1411  0.178987  0.199300  0.129732  ...   0.0  0.000000  0.000000   0.0   0.0   \n\n      1407  1408  1409  1410      1411  \n0      0.0   0.0   0.0   0.0  0.130369  \n1      0.0   0.0   0.0   0.0  0.069561  \n2      0.0   0.0   0.0   0.0  0.094660  \n3      0.0   0.0   0.0   0.0  0.095157  \n4      0.0   0.0   0.0   0.0  0.000000  \n...    ...   ...   ...   ...       ...  \n1407   1.0   0.0   0.0   0.0  0.000000  \n1408   0.0   1.0   0.0   0.0  0.000000  \n1409   0.0   0.0   1.0   0.0  0.000000  \n1410   0.0   0.0   0.0   1.0  0.000000  \n1411   0.0   0.0   0.0   0.0  1.000000  \n\n[1412 rows x 1412 columns]",
      "text/html": "<div>\n<style scoped>\n    .dataframe tbody tr th:only-of-type {\n        vertical-align: middle;\n    }\n\n    .dataframe tbody tr th {\n        vertical-align: top;\n    }\n\n    .dataframe thead th {\n        text-align: right;\n    }\n</style>\n<table border=\"1\" class=\"dataframe\">\n  <thead>\n    <tr style=\"text-align: right;\">\n      <th></th>\n      <th>0</th>\n      <th>1</th>\n      <th>2</th>\n      <th>3</th>\n      <th>4</th>\n      <th>5</th>\n      <th>6</th>\n      <th>7</th>\n      <th>8</th>\n      <th>9</th>\n      <th>...</th>\n      <th>1402</th>\n      <th>1403</th>\n      <th>1404</th>\n      <th>1405</th>\n      <th>1406</th>\n      <th>1407</th>\n      <th>1408</th>\n      <th>1409</th>\n      <th>1410</th>\n      <th>1411</th>\n    </tr>\n  </thead>\n  <tbody>\n    <tr>\n      <th>0</th>\n      <td>1.000000</td>\n      <td>0.120483</td>\n      <td>0.114770</td>\n      <td>0.041204</td>\n      <td>0.000000</td>\n      <td>0.224702</td>\n      <td>0.087121</td>\n      <td>0.054708</td>\n      <td>0.212429</td>\n      <td>0.280877</td>\n      <td>...</td>\n      <td>0.0</td>\n      <td>0.000000</td>\n      <td>0.000000</td>\n      <td>0.0</td>\n      <td>0.0</td>\n      <td>0.0</td>\n      <td>0.0</td>\n      <td>0.0</td>\n      <td>0.0</td>\n      <td>0.130369</td>\n    </tr>\n    <tr>\n      <th>1</th>\n      <td>0.120483</td>\n      <td>1.000000</td>\n      <td>0.081650</td>\n      <td>0.102598</td>\n      <td>0.000000</td>\n      <td>0.046625</td>\n      <td>0.000000</td>\n      <td>0.045408</td>\n      <td>0.165295</td>\n      <td>0.116563</td>\n      <td>...</td>\n      <td>0.0</td>\n      <td>0.000000</td>\n      <td>0.000000</td>\n      <td>0.0</td>\n      <td>0.0</td>\n      <td>0.0</td>\n      <td>0.0</td>\n      <td>0.0</td>\n      <td>0.0</td>\n      <td>0.069561</td>\n    </tr>\n    <tr>\n      <th>2</th>\n      <td>0.114770</td>\n      <td>0.081650</td>\n      <td>1.000000</td>\n      <td>0.083771</td>\n      <td>0.069007</td>\n      <td>0.171312</td>\n      <td>0.132842</td>\n      <td>0.176107</td>\n      <td>0.242933</td>\n      <td>0.199864</td>\n      <td>...</td>\n      <td>0.0</td>\n      <td>0.091287</td>\n      <td>0.091287</td>\n      <td>0.0</td>\n      <td>0.0</td>\n      <td>0.0</td>\n      <td>0.0</td>\n      <td>0.0</td>\n      <td>0.0</td>\n      <td>0.094660</td>\n    </tr>\n    <tr>\n      <th>3</th>\n      <td>0.041204</td>\n      <td>0.102598</td>\n      <td>0.083771</td>\n      <td>1.000000</td>\n      <td>0.086711</td>\n      <td>0.095673</td>\n      <td>0.166924</td>\n      <td>0.046587</td>\n      <td>0.101753</td>\n      <td>0.023918</td>\n      <td>...</td>\n      <td>0.0</td>\n      <td>0.000000</td>\n      <td>0.000000</td>\n      <td>0.0</td>\n      <td>0.0</td>\n      <td>0.0</td>\n      <td>0.0</td>\n      <td>0.0</td>\n      <td>0.0</td>\n      <td>0.095157</td>\n    </tr>\n    <tr>\n      <th>4</th>\n      <td>0.000000</td>\n      <td>0.000000</td>\n      <td>0.069007</td>\n      <td>0.086711</td>\n      <td>1.000000</td>\n      <td>0.000000</td>\n      <td>0.000000</td>\n      <td>0.076753</td>\n      <td>0.083820</td>\n      <td>0.118217</td>\n      <td>...</td>\n      <td>0.0</td>\n      <td>0.000000</td>\n      <td>0.000000</td>\n      <td>0.0</td>\n      <td>0.0</td>\n      <td>0.0</td>\n      <td>0.0</td>\n      <td>0.0</td>\n      <td>0.0</td>\n      <td>0.000000</td>\n    </tr>\n    <tr>\n      <th>...</th>\n      <td>...</td>\n      <td>...</td>\n      <td>...</td>\n      <td>...</td>\n      <td>...</td>\n      <td>...</td>\n      <td>...</td>\n      <td>...</td>\n      <td>...</td>\n      <td>...</td>\n      <td>...</td>\n      <td>...</td>\n      <td>...</td>\n      <td>...</td>\n      <td>...</td>\n      <td>...</td>\n      <td>...</td>\n      <td>...</td>\n      <td>...</td>\n      <td>...</td>\n      <td>...</td>\n    </tr>\n    <tr>\n      <th>1407</th>\n      <td>0.000000</td>\n      <td>0.000000</td>\n      <td>0.000000</td>\n      <td>0.000000</td>\n      <td>0.000000</td>\n      <td>0.000000</td>\n      <td>0.000000</td>\n      <td>0.000000</td>\n      <td>0.073922</td>\n      <td>0.000000</td>\n      <td>...</td>\n      <td>0.0</td>\n      <td>0.000000</td>\n      <td>0.000000</td>\n      <td>0.0</td>\n      <td>0.0</td>\n      <td>1.0</td>\n      <td>0.0</td>\n      <td>0.0</td>\n      <td>0.0</td>\n      <td>0.000000</td>\n    </tr>\n    <tr>\n      <th>1408</th>\n      <td>0.000000</td>\n      <td>0.000000</td>\n      <td>0.000000</td>\n      <td>0.000000</td>\n      <td>0.000000</td>\n      <td>0.000000</td>\n      <td>0.000000</td>\n      <td>0.000000</td>\n      <td>0.000000</td>\n      <td>0.000000</td>\n      <td>...</td>\n      <td>0.0</td>\n      <td>0.000000</td>\n      <td>0.000000</td>\n      <td>0.0</td>\n      <td>0.0</td>\n      <td>0.0</td>\n      <td>1.0</td>\n      <td>0.0</td>\n      <td>0.0</td>\n      <td>0.000000</td>\n    </tr>\n    <tr>\n      <th>1409</th>\n      <td>0.000000</td>\n      <td>0.000000</td>\n      <td>0.000000</td>\n      <td>0.000000</td>\n      <td>0.000000</td>\n      <td>0.000000</td>\n      <td>0.000000</td>\n      <td>0.000000</td>\n      <td>0.000000</td>\n      <td>0.000000</td>\n      <td>...</td>\n      <td>0.0</td>\n      <td>0.000000</td>\n      <td>0.000000</td>\n      <td>0.0</td>\n      <td>0.0</td>\n      <td>0.0</td>\n      <td>0.0</td>\n      <td>1.0</td>\n      <td>0.0</td>\n      <td>0.000000</td>\n    </tr>\n    <tr>\n      <th>1410</th>\n      <td>0.000000</td>\n      <td>0.000000</td>\n      <td>0.000000</td>\n      <td>0.000000</td>\n      <td>0.000000</td>\n      <td>0.000000</td>\n      <td>0.000000</td>\n      <td>0.000000</td>\n      <td>0.000000</td>\n      <td>0.000000</td>\n      <td>...</td>\n      <td>1.0</td>\n      <td>0.000000</td>\n      <td>0.000000</td>\n      <td>0.0</td>\n      <td>0.0</td>\n      <td>0.0</td>\n      <td>0.0</td>\n      <td>0.0</td>\n      <td>1.0</td>\n      <td>0.000000</td>\n    </tr>\n    <tr>\n      <th>1411</th>\n      <td>0.130369</td>\n      <td>0.069561</td>\n      <td>0.094660</td>\n      <td>0.095157</td>\n      <td>0.000000</td>\n      <td>0.021622</td>\n      <td>0.125749</td>\n      <td>0.178987</td>\n      <td>0.199300</td>\n      <td>0.129732</td>\n      <td>...</td>\n      <td>0.0</td>\n      <td>0.000000</td>\n      <td>0.000000</td>\n      <td>0.0</td>\n      <td>0.0</td>\n      <td>0.0</td>\n      <td>0.0</td>\n      <td>0.0</td>\n      <td>0.0</td>\n      <td>1.000000</td>\n    </tr>\n  </tbody>\n</table>\n<p>1412 rows × 1412 columns</p>\n</div>"
     },
     "execution_count": 124,
     "metadata": {},
     "output_type": "execute_result"
    }
   ],
   "source": [
    "item_similarity"
   ],
   "metadata": {
    "collapsed": false,
    "ExecuteTime": {
     "end_time": "2024-07-24T09:12:02.204659100Z",
     "start_time": "2024-07-24T09:12:02.158662200Z"
    }
   },
   "id": "9b29b7eef90f6180",
   "execution_count": 124
  },
  {
   "cell_type": "code",
   "outputs": [
    {
     "name": "stderr",
     "output_type": "stream",
     "text": [
      "Processing users: 100%|██████████| 942/942 [21:43<00:00,  1.38s/it]\n"
     ]
    }
   ],
   "source": [
    "recs = get_top_n_recommendations(user_item_matrix,user_similarity)"
   ],
   "metadata": {
    "collapsed": false,
    "ExecuteTime": {
     "end_time": "2024-07-24T08:05:15.916820500Z",
     "start_time": "2024-07-24T07:43:32.761068400Z"
    }
   },
   "id": "7b8ce0d5d1749047",
   "execution_count": 94
  },
  {
   "cell_type": "code",
   "outputs": [
    {
     "data": {
      "text/plain": "(0.02335456475583864, 0.014633382035289999)"
     },
     "execution_count": 95,
     "metadata": {},
     "output_type": "execute_result"
    }
   ],
   "source": [
    "evaluate(recs,test_data)"
   ],
   "metadata": {
    "collapsed": false,
    "ExecuteTime": {
     "end_time": "2024-07-24T08:12:06.034161700Z",
     "start_time": "2024-07-24T08:12:05.671858200Z"
    }
   },
   "id": "b6ea1518e4d492f7",
   "execution_count": 95
  },
  {
   "cell_type": "code",
   "outputs": [
    {
     "name": "stderr",
     "output_type": "stream",
     "text": [
      "Processing users: 100%|██████████| 942/942 [22:26<00:00,  1.43s/it] \n"
     ]
    }
   ],
   "source": [
    "recs = get_top_n_recommendations(user_item_matrix,item_similarity,method=\"item\")"
   ],
   "metadata": {
    "collapsed": false,
    "ExecuteTime": {
     "end_time": "2024-07-24T09:36:26.423348200Z",
     "start_time": "2024-07-24T09:13:59.418660800Z"
    }
   },
   "id": "a5f4aa7abee69966",
   "execution_count": 128
  },
  {
   "cell_type": "code",
   "outputs": [
    {
     "data": {
      "text/plain": "(0.027176220806794056, 0.020906998936881065)"
     },
     "execution_count": 129,
     "metadata": {},
     "output_type": "execute_result"
    }
   ],
   "source": [
    "evaluate(recs,test_data)"
   ],
   "metadata": {
    "collapsed": false,
    "ExecuteTime": {
     "end_time": "2024-07-24T09:39:23.634803800Z",
     "start_time": "2024-07-24T09:39:23.355463600Z"
    }
   },
   "id": "81d661d017fc5ff3",
   "execution_count": 129
  },
  {
   "cell_type": "code",
   "outputs": [],
   "source": [
    "ori_recs = convert_recommendations_to_original_ids(recs,user_id_map,item_id_map)"
   ],
   "metadata": {
    "collapsed": false,
    "ExecuteTime": {
     "end_time": "2024-07-24T09:52:45.378521300Z",
     "start_time": "2024-07-24T09:52:45.363546Z"
    }
   },
   "id": "8e35c2f49784ca5d",
   "execution_count": 143
  },
  {
   "cell_type": "code",
   "outputs": [],
   "source": [
    "with open('../res/item_CF_rec_real.json', 'w', encoding='utf-8') as f:\n",
    "    json.dump(ori_recs, f, ensure_ascii=False, indent=4)"
   ],
   "metadata": {
    "collapsed": false,
    "ExecuteTime": {
     "end_time": "2024-07-24T09:52:46.425076200Z",
     "start_time": "2024-07-24T09:52:46.328076300Z"
    }
   },
   "id": "8666041df99d57d6",
   "execution_count": 144
  }
 ],
 "metadata": {
  "kernelspec": {
   "name": "datamining",
   "language": "python",
   "display_name": "DataMining"
  },
  "language_info": {
   "codemirror_mode": {
    "name": "ipython",
    "version": 2
   },
   "file_extension": ".py",
   "mimetype": "text/x-python",
   "name": "python",
   "nbconvert_exporter": "python",
   "pygments_lexer": "ipython2",
   "version": "2.7.6"
  }
 },
 "nbformat": 4,
 "nbformat_minor": 5
}
