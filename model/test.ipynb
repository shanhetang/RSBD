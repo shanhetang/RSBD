{
 "cells": [
  {
   "cell_type": "code",
   "execution_count": 1,
   "id": "initial_id",
   "metadata": {
    "collapsed": true,
    "ExecuteTime": {
     "end_time": "2024-07-24T06:06:48.831941500Z",
     "start_time": "2024-07-24T06:06:33.032169Z"
    }
   },
   "outputs": [],
   "source": [
    "import json\n",
    "\n",
    "import pandas as pd\n",
    "import numpy as np\n",
    "from sklearn.metrics.pairwise import cosine_similarity,pairwise_distances\n",
    "from collections import defaultdict"
   ]
  },
  {
   "cell_type": "code",
   "outputs": [],
   "source": [
    "def load_data_and_map_ids(file_path, test_size=0.3):\n",
    "    # 读取数据\n",
    "    data = pd.read_csv(file_path, sep=' ', header=None, names=['user_id', 'item_id', 'click'])\n",
    "\n",
    "    # 1.1 将id映射到指定范围\n",
    "    user_id_map = {id: i for i, id in enumerate(data['user_id'].unique())}\n",
    "    item_id_map = {id: i for i, id in enumerate(data['item_id'].unique())}\n",
    "\n",
    "    data['user_id'] = data['user_id'].map(user_id_map)\n",
    "    data['item_id'] = data['item_id'].map(item_id_map)\n",
    "\n",
    "    # 1.2 划分训练集和测试集\n",
    "    train_data = []\n",
    "    test_data = []\n",
    "    for user, group in data.groupby('user_id'):\n",
    "        n_test_items = max(1, int(len(group) * test_size))\n",
    "        test_items = group.sample(n=n_test_items)\n",
    "        train_items = group.drop(test_items.index)\n",
    "        train_data.append(train_items)\n",
    "        test_data.append(test_items)\n",
    "\n",
    "    return data, user_id_map, item_id_map, pd.concat(train_data), pd.concat(test_data)"
   ],
   "metadata": {
    "collapsed": false,
    "ExecuteTime": {
     "end_time": "2024-07-24T06:06:48.834942400Z",
     "start_time": "2024-07-24T06:06:48.825657100Z"
    }
   },
   "id": "caa100fb981e8f4a",
   "execution_count": 2
  },
  {
   "cell_type": "code",
   "outputs": [],
   "source": [
    "def build_user_item_matrix(data):\n",
    "    return data.pivot(index='user_id', columns='item_id', values='click').fillna(0)"
   ],
   "metadata": {
    "collapsed": false,
    "ExecuteTime": {
     "end_time": "2024-07-24T06:06:48.875979400Z",
     "start_time": "2024-07-24T06:06:48.836978600Z"
    }
   },
   "id": "aa05debf172653e0",
   "execution_count": 3
  },
  {
   "cell_type": "code",
   "outputs": [],
   "source": [
    "def compute_user_similarity(user_item_matrix,method=\"cos\"):\n",
    "    if method == 'cos':\n",
    "        similarity = cosine_similarity(user_item_matrix)\n",
    "    else: # method == 'pearson':\n",
    "        similarity = 1 - pairwise_distances(user_item_matrix,metric='correlation')\n",
    "    return pd.DataFrame(similarity,index=user_item_matrix.index,columns=user_item_matrix.index)"
   ],
   "metadata": {
    "collapsed": false,
    "ExecuteTime": {
     "end_time": "2024-07-24T06:06:48.891945200Z",
     "start_time": "2024-07-24T06:06:48.870955400Z"
    }
   },
   "id": "e882043786af6328",
   "execution_count": 4
  },
  {
   "cell_type": "code",
   "outputs": [],
   "source": [
    "def compute_item_similarity(user_item_matrix,method=\"cos\"):\n",
    "    if method == 'cos':\n",
    "        similarity = cosine_similarity(user_item_matrix.T)\n",
    "    else: # method == 'pearson':\n",
    "        similarity = 1 - pairwise_distances(user_item_matrix.T,metric='correlation')\n",
    "    return pd.DataFrame(similarity,index=user_item_matrix.T.index,columns=user_item_matrix.T.index)"
   ],
   "metadata": {
    "collapsed": false,
    "ExecuteTime": {
     "end_time": "2024-07-24T06:06:48.914942900Z",
     "start_time": "2024-07-24T06:06:48.886978200Z"
    }
   },
   "id": "837d33b350729e18",
   "execution_count": 5
  },
  {
   "cell_type": "code",
   "outputs": [],
   "source": [
    "def get_top_n_recommendations(user_item_matrix, similarity, n=10, top_k=10, method=\"user\"):\n",
    "    recommendations = defaultdict(list)\n",
    "    if method == \"user\":\n",
    "        user_ids = user_item_matrix.index\n",
    "        # 3.1 获取前n个相似度最高的用户\n",
    "        for i, user_id in enumerate(user_ids):\n",
    "            user_vector = user_item_matrix.iloc[i]\n",
    "            similar_users = similarity[i].argsort()[::-1][1:top_k + 1]  # 取前K个最相似的用户（除了自己）\n",
    "            # 3.2 遍历item，获取top-k最高得分的item\n",
    "            for item_id in user_item_matrix.columns:\n",
    "                if user_vector[item_id] == 0:  # 用户未交互过的物品\n",
    "                    similar_users_ratings = user_item_matrix.iloc[similar_users, item_id]\n",
    "                    similar_users_similarities = similarity.iloc[i, similar_users]\n",
    "                    # 加权平均得分\n",
    "                    score = np.sum(similar_users_ratings * similar_users_similarities) / np.sum(similar_users_similarities)\n",
    "    \n",
    "                    if score > 0:\n",
    "                        recommendations[user_id].append((item_id, score))\n",
    "    \n",
    "            recommendations[user_id] = sorted(recommendations[user_id], key=lambda x: x[1], reverse=True)[:n]\n",
    "    elif method == \"item\":\n",
    "        item_ids = user_item_matrix.T.index\n",
    "        pass\n",
    "    return recommendations"
   ],
   "metadata": {
    "collapsed": false,
    "ExecuteTime": {
     "end_time": "2024-07-24T06:06:48.947942800Z",
     "start_time": "2024-07-24T06:06:48.902942900Z"
    }
   },
   "id": "e2fb0145d7d1b777",
   "execution_count": 6
  },
  {
   "cell_type": "code",
   "outputs": [],
   "source": [
    "def evaluate(recommendations, test_data, k=10):\n",
    "    precision = defaultdict(float)\n",
    "    recall = defaultdict(float)\n",
    "\n",
    "    for user, user_recs in recommendations.items():\n",
    "        user_test = set(test_data[test_data['user_id'] == user]['item_id'])\n",
    "        recs = set([item for item, _ in user_recs[:k]])\n",
    "\n",
    "        if len(recs) > 0:\n",
    "            precision[user] = len(recs & user_test) / len(recs)\n",
    "        if len(user_test) > 0:\n",
    "            recall[user] = len(recs & user_test) / len(user_test)\n",
    "\n",
    "    avg_precision = np.mean(list(precision.values()))\n",
    "    avg_recall = np.mean(list(recall.values()))\n",
    "\n",
    "    return avg_precision, avg_recall"
   ],
   "metadata": {
    "collapsed": false,
    "ExecuteTime": {
     "end_time": "2024-07-24T06:06:48.949943300Z",
     "start_time": "2024-07-24T06:06:48.936946700Z"
    }
   },
   "id": "5f7a3685c85a6d54",
   "execution_count": 7
  },
  {
   "cell_type": "code",
   "outputs": [],
   "source": [
    "def convert_recommendations_to_original_ids(recommendations, user_id_map, item_id_map):\n",
    "    original_recommendations = {}\n",
    "    reverse_user_id_map = {v: k for k, v in user_id_map.items()}\n",
    "    reverse_item_id_map = {v: k for k, v in item_id_map.items()}\n",
    "\n",
    "    for user, recs in recommendations.items():\n",
    "        original_user_id = reverse_user_id_map[user]\n",
    "        original_recs = [(reverse_item_id_map[item], score) for item, score in recs]\n",
    "        original_recommendations[original_user_id] = original_recs\n",
    "\n",
    "    return original_recommendations"
   ],
   "metadata": {
    "collapsed": false,
    "ExecuteTime": {
     "end_time": "2024-07-24T06:06:48.987942300Z",
     "start_time": "2024-07-24T06:06:48.950945100Z"
    }
   },
   "id": "700d464660b0b9a1",
   "execution_count": 8
  },
  {
   "cell_type": "code",
   "outputs": [],
   "source": [
    "data, user_id_map, item_id_map, train_data, test_data = load_data_and_map_ids('../data/training.txt')"
   ],
   "metadata": {
    "collapsed": false,
    "ExecuteTime": {
     "end_time": "2024-07-24T06:06:49.468187900Z",
     "start_time": "2024-07-24T06:06:48.964944300Z"
    }
   },
   "id": "a46fba98f8d53de2",
   "execution_count": 9
  },
  {
   "cell_type": "code",
   "outputs": [
    {
     "data": {
      "text/plain": "       user_id  item_id  click\n0            0        0      1\n1            1        1      1\n2            2        2      1\n3            3        3      1\n4            4        4      1\n...        ...      ...    ...\n44229       88      600      1\n44230      847      401      1\n44231      421       43      1\n44232      790      286      1\n44233      695      123      1\n\n[44234 rows x 3 columns]",
      "text/html": "<div>\n<style scoped>\n    .dataframe tbody tr th:only-of-type {\n        vertical-align: middle;\n    }\n\n    .dataframe tbody tr th {\n        vertical-align: top;\n    }\n\n    .dataframe thead th {\n        text-align: right;\n    }\n</style>\n<table border=\"1\" class=\"dataframe\">\n  <thead>\n    <tr style=\"text-align: right;\">\n      <th></th>\n      <th>user_id</th>\n      <th>item_id</th>\n      <th>click</th>\n    </tr>\n  </thead>\n  <tbody>\n    <tr>\n      <th>0</th>\n      <td>0</td>\n      <td>0</td>\n      <td>1</td>\n    </tr>\n    <tr>\n      <th>1</th>\n      <td>1</td>\n      <td>1</td>\n      <td>1</td>\n    </tr>\n    <tr>\n      <th>2</th>\n      <td>2</td>\n      <td>2</td>\n      <td>1</td>\n    </tr>\n    <tr>\n      <th>3</th>\n      <td>3</td>\n      <td>3</td>\n      <td>1</td>\n    </tr>\n    <tr>\n      <th>4</th>\n      <td>4</td>\n      <td>4</td>\n      <td>1</td>\n    </tr>\n    <tr>\n      <th>...</th>\n      <td>...</td>\n      <td>...</td>\n      <td>...</td>\n    </tr>\n    <tr>\n      <th>44229</th>\n      <td>88</td>\n      <td>600</td>\n      <td>1</td>\n    </tr>\n    <tr>\n      <th>44230</th>\n      <td>847</td>\n      <td>401</td>\n      <td>1</td>\n    </tr>\n    <tr>\n      <th>44231</th>\n      <td>421</td>\n      <td>43</td>\n      <td>1</td>\n    </tr>\n    <tr>\n      <th>44232</th>\n      <td>790</td>\n      <td>286</td>\n      <td>1</td>\n    </tr>\n    <tr>\n      <th>44233</th>\n      <td>695</td>\n      <td>123</td>\n      <td>1</td>\n    </tr>\n  </tbody>\n</table>\n<p>44234 rows × 3 columns</p>\n</div>"
     },
     "execution_count": 10,
     "metadata": {},
     "output_type": "execute_result"
    }
   ],
   "source": [
    "data"
   ],
   "metadata": {
    "collapsed": false,
    "ExecuteTime": {
     "end_time": "2024-07-24T06:06:49.550712500Z",
     "start_time": "2024-07-24T06:06:49.473186700Z"
    }
   },
   "id": "472b4c39f9e7c71e",
   "execution_count": 10
  },
  {
   "cell_type": "code",
   "outputs": [],
   "source": [
    "user_item_matrix = build_user_item_matrix(train_data)"
   ],
   "metadata": {
    "collapsed": false,
    "ExecuteTime": {
     "end_time": "2024-07-24T06:06:49.664711900Z",
     "start_time": "2024-07-24T06:06:49.549711900Z"
    }
   },
   "id": "99f1415f0bf39a64",
   "execution_count": 11
  },
  {
   "cell_type": "code",
   "outputs": [
    {
     "data": {
      "text/plain": "item_id  0     1     2     3     4     5     6     7     8     9     ...  \\\nuser_id                                                              ...   \n0         1.0   0.0   0.0   0.0   0.0   0.0   0.0   0.0   0.0   1.0  ...   \n1         0.0   0.0   0.0   0.0   0.0   0.0   0.0   0.0   0.0   1.0  ...   \n2         0.0   1.0   1.0   0.0   0.0   0.0   0.0   0.0   0.0   0.0  ...   \n3         0.0   0.0   0.0   0.0   0.0   0.0   1.0   0.0   0.0   1.0  ...   \n4         0.0   0.0   0.0   0.0   1.0   0.0   0.0   0.0   0.0   0.0  ...   \n...       ...   ...   ...   ...   ...   ...   ...   ...   ...   ...  ...   \n937       0.0   0.0   0.0   0.0   0.0   0.0   0.0   0.0   0.0   0.0  ...   \n938       0.0   0.0   0.0   0.0   0.0   0.0   0.0   0.0   0.0   0.0  ...   \n939       0.0   0.0   0.0   0.0   0.0   0.0   0.0   0.0   0.0   0.0  ...   \n940       0.0   0.0   0.0   0.0   0.0   0.0   0.0   0.0   0.0   0.0  ...   \n941       0.0   0.0   0.0   0.0   0.0   0.0   0.0   0.0   0.0   0.0  ...   \n\nitem_id  1398  1399  1401  1402  1403  1405  1407  1408  1409  1410  \nuser_id                                                              \n0         0.0   0.0   0.0   0.0   0.0   0.0   0.0   0.0   0.0   0.0  \n1         0.0   0.0   0.0   0.0   0.0   0.0   0.0   0.0   0.0   0.0  \n2         0.0   0.0   0.0   0.0   0.0   0.0   0.0   0.0   0.0   0.0  \n3         0.0   0.0   0.0   0.0   0.0   0.0   0.0   0.0   0.0   0.0  \n4         0.0   0.0   0.0   0.0   0.0   0.0   0.0   0.0   0.0   0.0  \n...       ...   ...   ...   ...   ...   ...   ...   ...   ...   ...  \n937       0.0   0.0   0.0   0.0   0.0   0.0   0.0   0.0   0.0   0.0  \n938       0.0   0.0   0.0   0.0   0.0   0.0   0.0   0.0   0.0   0.0  \n939       0.0   0.0   0.0   0.0   0.0   0.0   0.0   0.0   0.0   0.0  \n940       0.0   0.0   0.0   0.0   0.0   0.0   0.0   0.0   0.0   0.0  \n941       0.0   0.0   0.0   0.0   0.0   0.0   0.0   0.0   0.0   0.0  \n\n[942 rows x 1349 columns]",
      "text/html": "<div>\n<style scoped>\n    .dataframe tbody tr th:only-of-type {\n        vertical-align: middle;\n    }\n\n    .dataframe tbody tr th {\n        vertical-align: top;\n    }\n\n    .dataframe thead th {\n        text-align: right;\n    }\n</style>\n<table border=\"1\" class=\"dataframe\">\n  <thead>\n    <tr style=\"text-align: right;\">\n      <th>item_id</th>\n      <th>0</th>\n      <th>1</th>\n      <th>2</th>\n      <th>3</th>\n      <th>4</th>\n      <th>5</th>\n      <th>6</th>\n      <th>7</th>\n      <th>8</th>\n      <th>9</th>\n      <th>...</th>\n      <th>1398</th>\n      <th>1399</th>\n      <th>1401</th>\n      <th>1402</th>\n      <th>1403</th>\n      <th>1405</th>\n      <th>1407</th>\n      <th>1408</th>\n      <th>1409</th>\n      <th>1410</th>\n    </tr>\n    <tr>\n      <th>user_id</th>\n      <th></th>\n      <th></th>\n      <th></th>\n      <th></th>\n      <th></th>\n      <th></th>\n      <th></th>\n      <th></th>\n      <th></th>\n      <th></th>\n      <th></th>\n      <th></th>\n      <th></th>\n      <th></th>\n      <th></th>\n      <th></th>\n      <th></th>\n      <th></th>\n      <th></th>\n      <th></th>\n      <th></th>\n    </tr>\n  </thead>\n  <tbody>\n    <tr>\n      <th>0</th>\n      <td>1.0</td>\n      <td>0.0</td>\n      <td>0.0</td>\n      <td>0.0</td>\n      <td>0.0</td>\n      <td>0.0</td>\n      <td>0.0</td>\n      <td>0.0</td>\n      <td>0.0</td>\n      <td>1.0</td>\n      <td>...</td>\n      <td>0.0</td>\n      <td>0.0</td>\n      <td>0.0</td>\n      <td>0.0</td>\n      <td>0.0</td>\n      <td>0.0</td>\n      <td>0.0</td>\n      <td>0.0</td>\n      <td>0.0</td>\n      <td>0.0</td>\n    </tr>\n    <tr>\n      <th>1</th>\n      <td>0.0</td>\n      <td>0.0</td>\n      <td>0.0</td>\n      <td>0.0</td>\n      <td>0.0</td>\n      <td>0.0</td>\n      <td>0.0</td>\n      <td>0.0</td>\n      <td>0.0</td>\n      <td>1.0</td>\n      <td>...</td>\n      <td>0.0</td>\n      <td>0.0</td>\n      <td>0.0</td>\n      <td>0.0</td>\n      <td>0.0</td>\n      <td>0.0</td>\n      <td>0.0</td>\n      <td>0.0</td>\n      <td>0.0</td>\n      <td>0.0</td>\n    </tr>\n    <tr>\n      <th>2</th>\n      <td>0.0</td>\n      <td>1.0</td>\n      <td>1.0</td>\n      <td>0.0</td>\n      <td>0.0</td>\n      <td>0.0</td>\n      <td>0.0</td>\n      <td>0.0</td>\n      <td>0.0</td>\n      <td>0.0</td>\n      <td>...</td>\n      <td>0.0</td>\n      <td>0.0</td>\n      <td>0.0</td>\n      <td>0.0</td>\n      <td>0.0</td>\n      <td>0.0</td>\n      <td>0.0</td>\n      <td>0.0</td>\n      <td>0.0</td>\n      <td>0.0</td>\n    </tr>\n    <tr>\n      <th>3</th>\n      <td>0.0</td>\n      <td>0.0</td>\n      <td>0.0</td>\n      <td>0.0</td>\n      <td>0.0</td>\n      <td>0.0</td>\n      <td>1.0</td>\n      <td>0.0</td>\n      <td>0.0</td>\n      <td>1.0</td>\n      <td>...</td>\n      <td>0.0</td>\n      <td>0.0</td>\n      <td>0.0</td>\n      <td>0.0</td>\n      <td>0.0</td>\n      <td>0.0</td>\n      <td>0.0</td>\n      <td>0.0</td>\n      <td>0.0</td>\n      <td>0.0</td>\n    </tr>\n    <tr>\n      <th>4</th>\n      <td>0.0</td>\n      <td>0.0</td>\n      <td>0.0</td>\n      <td>0.0</td>\n      <td>1.0</td>\n      <td>0.0</td>\n      <td>0.0</td>\n      <td>0.0</td>\n      <td>0.0</td>\n      <td>0.0</td>\n      <td>...</td>\n      <td>0.0</td>\n      <td>0.0</td>\n      <td>0.0</td>\n      <td>0.0</td>\n      <td>0.0</td>\n      <td>0.0</td>\n      <td>0.0</td>\n      <td>0.0</td>\n      <td>0.0</td>\n      <td>0.0</td>\n    </tr>\n    <tr>\n      <th>...</th>\n      <td>...</td>\n      <td>...</td>\n      <td>...</td>\n      <td>...</td>\n      <td>...</td>\n      <td>...</td>\n      <td>...</td>\n      <td>...</td>\n      <td>...</td>\n      <td>...</td>\n      <td>...</td>\n      <td>...</td>\n      <td>...</td>\n      <td>...</td>\n      <td>...</td>\n      <td>...</td>\n      <td>...</td>\n      <td>...</td>\n      <td>...</td>\n      <td>...</td>\n      <td>...</td>\n    </tr>\n    <tr>\n      <th>937</th>\n      <td>0.0</td>\n      <td>0.0</td>\n      <td>0.0</td>\n      <td>0.0</td>\n      <td>0.0</td>\n      <td>0.0</td>\n      <td>0.0</td>\n      <td>0.0</td>\n      <td>0.0</td>\n      <td>0.0</td>\n      <td>...</td>\n      <td>0.0</td>\n      <td>0.0</td>\n      <td>0.0</td>\n      <td>0.0</td>\n      <td>0.0</td>\n      <td>0.0</td>\n      <td>0.0</td>\n      <td>0.0</td>\n      <td>0.0</td>\n      <td>0.0</td>\n    </tr>\n    <tr>\n      <th>938</th>\n      <td>0.0</td>\n      <td>0.0</td>\n      <td>0.0</td>\n      <td>0.0</td>\n      <td>0.0</td>\n      <td>0.0</td>\n      <td>0.0</td>\n      <td>0.0</td>\n      <td>0.0</td>\n      <td>0.0</td>\n      <td>...</td>\n      <td>0.0</td>\n      <td>0.0</td>\n      <td>0.0</td>\n      <td>0.0</td>\n      <td>0.0</td>\n      <td>0.0</td>\n      <td>0.0</td>\n      <td>0.0</td>\n      <td>0.0</td>\n      <td>0.0</td>\n    </tr>\n    <tr>\n      <th>939</th>\n      <td>0.0</td>\n      <td>0.0</td>\n      <td>0.0</td>\n      <td>0.0</td>\n      <td>0.0</td>\n      <td>0.0</td>\n      <td>0.0</td>\n      <td>0.0</td>\n      <td>0.0</td>\n      <td>0.0</td>\n      <td>...</td>\n      <td>0.0</td>\n      <td>0.0</td>\n      <td>0.0</td>\n      <td>0.0</td>\n      <td>0.0</td>\n      <td>0.0</td>\n      <td>0.0</td>\n      <td>0.0</td>\n      <td>0.0</td>\n      <td>0.0</td>\n    </tr>\n    <tr>\n      <th>940</th>\n      <td>0.0</td>\n      <td>0.0</td>\n      <td>0.0</td>\n      <td>0.0</td>\n      <td>0.0</td>\n      <td>0.0</td>\n      <td>0.0</td>\n      <td>0.0</td>\n      <td>0.0</td>\n      <td>0.0</td>\n      <td>...</td>\n      <td>0.0</td>\n      <td>0.0</td>\n      <td>0.0</td>\n      <td>0.0</td>\n      <td>0.0</td>\n      <td>0.0</td>\n      <td>0.0</td>\n      <td>0.0</td>\n      <td>0.0</td>\n      <td>0.0</td>\n    </tr>\n    <tr>\n      <th>941</th>\n      <td>0.0</td>\n      <td>0.0</td>\n      <td>0.0</td>\n      <td>0.0</td>\n      <td>0.0</td>\n      <td>0.0</td>\n      <td>0.0</td>\n      <td>0.0</td>\n      <td>0.0</td>\n      <td>0.0</td>\n      <td>...</td>\n      <td>0.0</td>\n      <td>0.0</td>\n      <td>0.0</td>\n      <td>0.0</td>\n      <td>0.0</td>\n      <td>0.0</td>\n      <td>0.0</td>\n      <td>0.0</td>\n      <td>0.0</td>\n      <td>0.0</td>\n    </tr>\n  </tbody>\n</table>\n<p>942 rows × 1349 columns</p>\n</div>"
     },
     "execution_count": 12,
     "metadata": {},
     "output_type": "execute_result"
    }
   ],
   "source": [
    "user_item_matrix"
   ],
   "metadata": {
    "collapsed": false,
    "ExecuteTime": {
     "end_time": "2024-07-24T06:06:49.716713800Z",
     "start_time": "2024-07-24T06:06:49.598722500Z"
    }
   },
   "id": "f5b5bbddf6c50bd8",
   "execution_count": 12
  },
  {
   "cell_type": "code",
   "outputs": [],
   "source": [
    "user_similarity = compute_user_similarity(user_item_matrix,method=\"pearson\")"
   ],
   "metadata": {
    "collapsed": false,
    "ExecuteTime": {
     "end_time": "2024-07-24T06:06:50.551920800Z",
     "start_time": "2024-07-24T06:06:49.645713900Z"
    }
   },
   "id": "19cb06879e3b4252",
   "execution_count": 13
  },
  {
   "cell_type": "code",
   "outputs": [
    {
     "data": {
      "text/plain": "user_id       0         1         2         3         4         5         6    \\\nuser_id                                                                         \n0        1.000000  0.147700  0.062719  0.126463  0.113708  0.029670 -0.008511   \n1        0.147700  1.000000  0.124201  0.196203  0.004857  0.056480  0.134274   \n2        0.062719  0.124201  1.000000  0.127768  0.057912  0.036677  0.085837   \n3        0.126463  0.196203  0.127768  1.000000  0.005575  0.066115  0.091242   \n4        0.113708  0.004857  0.057912  0.005575  1.000000  0.015895 -0.008734   \n...           ...       ...       ...       ...       ...       ...       ...   \n937      0.077665  0.087234 -0.010961  0.019839  0.027836  0.010729  0.058721   \n938      0.029413 -0.015492  0.007421  0.047676 -0.012350  0.037798  0.098588   \n939      0.046566 -0.011982 -0.019318 -0.017550 -0.009552 -0.019817  0.035518   \n940      0.046566 -0.011982 -0.019318  0.027804 -0.009552 -0.019817  0.035518   \n941     -0.007481 -0.006907 -0.011137  0.068320 -0.005507 -0.011424 -0.008878   \n\nuser_id       7         8         9    ...       932       933       934  \\\nuser_id                                ...                                 \n0        0.028836  0.119005  0.116659  ...  0.019215  0.061415  0.105777   \n1        0.096284  0.099556  0.163873  ...  0.107990  0.050486  0.080459   \n2       -0.001618  0.092158  0.057443  ...  0.025247  0.040218  0.013935   \n3        0.005575  0.023519  0.089697  ... -0.026888  0.038757  0.125958   \n4        0.055163  0.098577  0.073437  ... -0.014635 -0.002182  0.017903   \n...           ...       ...       ...  ...       ...       ...       ...   \n937     -0.017081  0.049892  0.021567  ...  0.049833  0.103955  0.002917   \n938     -0.012350  0.051479  0.027562  ...  0.076424  0.070523  0.021366   \n939     -0.009552 -0.016782 -0.022654  ... -0.006845  0.043180  0.142292   \n940     -0.009552  0.030383 -0.022654  ... -0.006845  0.043180  0.037486   \n941     -0.005507 -0.009675 -0.013060  ... -0.003946 -0.007869  0.082030   \n\nuser_id       935       936       937       938       939       940       941  \nuser_id                                                                        \n0        0.032760  0.074536  0.077665  0.029413  0.046566  0.046566 -0.007481  \n1       -0.014691  0.013325  0.087234 -0.015492 -0.011982 -0.011982 -0.006907  \n2        0.010451  0.033529 -0.010961  0.007421 -0.019318 -0.019318 -0.011137  \n3        0.015554 -0.007238  0.019839  0.047676 -0.017550  0.027804  0.068320  \n4       -0.011712  0.026265  0.027836 -0.012350 -0.009552 -0.009552 -0.005507  \n...           ...       ...       ...       ...       ...       ...       ...  \n937     -0.009795  0.089440  1.000000  0.063007 -0.007989 -0.007989 -0.004606  \n938      0.205231  0.203917  0.063007  1.000000 -0.005776  0.124093  0.221277  \n939      0.131366  0.452684 -0.007989 -0.005776  1.000000  0.162944  0.286958  \n940      0.268210  0.083977 -0.007989  0.124093  0.162944  1.000000  0.576492  \n941      0.233510  0.154690 -0.004606  0.221277  0.286958  0.576492  1.000000  \n\n[942 rows x 942 columns]",
      "text/html": "<div>\n<style scoped>\n    .dataframe tbody tr th:only-of-type {\n        vertical-align: middle;\n    }\n\n    .dataframe tbody tr th {\n        vertical-align: top;\n    }\n\n    .dataframe thead th {\n        text-align: right;\n    }\n</style>\n<table border=\"1\" class=\"dataframe\">\n  <thead>\n    <tr style=\"text-align: right;\">\n      <th>user_id</th>\n      <th>0</th>\n      <th>1</th>\n      <th>2</th>\n      <th>3</th>\n      <th>4</th>\n      <th>5</th>\n      <th>6</th>\n      <th>7</th>\n      <th>8</th>\n      <th>9</th>\n      <th>...</th>\n      <th>932</th>\n      <th>933</th>\n      <th>934</th>\n      <th>935</th>\n      <th>936</th>\n      <th>937</th>\n      <th>938</th>\n      <th>939</th>\n      <th>940</th>\n      <th>941</th>\n    </tr>\n    <tr>\n      <th>user_id</th>\n      <th></th>\n      <th></th>\n      <th></th>\n      <th></th>\n      <th></th>\n      <th></th>\n      <th></th>\n      <th></th>\n      <th></th>\n      <th></th>\n      <th></th>\n      <th></th>\n      <th></th>\n      <th></th>\n      <th></th>\n      <th></th>\n      <th></th>\n      <th></th>\n      <th></th>\n      <th></th>\n      <th></th>\n    </tr>\n  </thead>\n  <tbody>\n    <tr>\n      <th>0</th>\n      <td>1.000000</td>\n      <td>0.147700</td>\n      <td>0.062719</td>\n      <td>0.126463</td>\n      <td>0.113708</td>\n      <td>0.029670</td>\n      <td>-0.008511</td>\n      <td>0.028836</td>\n      <td>0.119005</td>\n      <td>0.116659</td>\n      <td>...</td>\n      <td>0.019215</td>\n      <td>0.061415</td>\n      <td>0.105777</td>\n      <td>0.032760</td>\n      <td>0.074536</td>\n      <td>0.077665</td>\n      <td>0.029413</td>\n      <td>0.046566</td>\n      <td>0.046566</td>\n      <td>-0.007481</td>\n    </tr>\n    <tr>\n      <th>1</th>\n      <td>0.147700</td>\n      <td>1.000000</td>\n      <td>0.124201</td>\n      <td>0.196203</td>\n      <td>0.004857</td>\n      <td>0.056480</td>\n      <td>0.134274</td>\n      <td>0.096284</td>\n      <td>0.099556</td>\n      <td>0.163873</td>\n      <td>...</td>\n      <td>0.107990</td>\n      <td>0.050486</td>\n      <td>0.080459</td>\n      <td>-0.014691</td>\n      <td>0.013325</td>\n      <td>0.087234</td>\n      <td>-0.015492</td>\n      <td>-0.011982</td>\n      <td>-0.011982</td>\n      <td>-0.006907</td>\n    </tr>\n    <tr>\n      <th>2</th>\n      <td>0.062719</td>\n      <td>0.124201</td>\n      <td>1.000000</td>\n      <td>0.127768</td>\n      <td>0.057912</td>\n      <td>0.036677</td>\n      <td>0.085837</td>\n      <td>-0.001618</td>\n      <td>0.092158</td>\n      <td>0.057443</td>\n      <td>...</td>\n      <td>0.025247</td>\n      <td>0.040218</td>\n      <td>0.013935</td>\n      <td>0.010451</td>\n      <td>0.033529</td>\n      <td>-0.010961</td>\n      <td>0.007421</td>\n      <td>-0.019318</td>\n      <td>-0.019318</td>\n      <td>-0.011137</td>\n    </tr>\n    <tr>\n      <th>3</th>\n      <td>0.126463</td>\n      <td>0.196203</td>\n      <td>0.127768</td>\n      <td>1.000000</td>\n      <td>0.005575</td>\n      <td>0.066115</td>\n      <td>0.091242</td>\n      <td>0.005575</td>\n      <td>0.023519</td>\n      <td>0.089697</td>\n      <td>...</td>\n      <td>-0.026888</td>\n      <td>0.038757</td>\n      <td>0.125958</td>\n      <td>0.015554</td>\n      <td>-0.007238</td>\n      <td>0.019839</td>\n      <td>0.047676</td>\n      <td>-0.017550</td>\n      <td>0.027804</td>\n      <td>0.068320</td>\n    </tr>\n    <tr>\n      <th>4</th>\n      <td>0.113708</td>\n      <td>0.004857</td>\n      <td>0.057912</td>\n      <td>0.005575</td>\n      <td>1.000000</td>\n      <td>0.015895</td>\n      <td>-0.008734</td>\n      <td>0.055163</td>\n      <td>0.098577</td>\n      <td>0.073437</td>\n      <td>...</td>\n      <td>-0.014635</td>\n      <td>-0.002182</td>\n      <td>0.017903</td>\n      <td>-0.011712</td>\n      <td>0.026265</td>\n      <td>0.027836</td>\n      <td>-0.012350</td>\n      <td>-0.009552</td>\n      <td>-0.009552</td>\n      <td>-0.005507</td>\n    </tr>\n    <tr>\n      <th>...</th>\n      <td>...</td>\n      <td>...</td>\n      <td>...</td>\n      <td>...</td>\n      <td>...</td>\n      <td>...</td>\n      <td>...</td>\n      <td>...</td>\n      <td>...</td>\n      <td>...</td>\n      <td>...</td>\n      <td>...</td>\n      <td>...</td>\n      <td>...</td>\n      <td>...</td>\n      <td>...</td>\n      <td>...</td>\n      <td>...</td>\n      <td>...</td>\n      <td>...</td>\n      <td>...</td>\n    </tr>\n    <tr>\n      <th>937</th>\n      <td>0.077665</td>\n      <td>0.087234</td>\n      <td>-0.010961</td>\n      <td>0.019839</td>\n      <td>0.027836</td>\n      <td>0.010729</td>\n      <td>0.058721</td>\n      <td>-0.017081</td>\n      <td>0.049892</td>\n      <td>0.021567</td>\n      <td>...</td>\n      <td>0.049833</td>\n      <td>0.103955</td>\n      <td>0.002917</td>\n      <td>-0.009795</td>\n      <td>0.089440</td>\n      <td>1.000000</td>\n      <td>0.063007</td>\n      <td>-0.007989</td>\n      <td>-0.007989</td>\n      <td>-0.004606</td>\n    </tr>\n    <tr>\n      <th>938</th>\n      <td>0.029413</td>\n      <td>-0.015492</td>\n      <td>0.007421</td>\n      <td>0.047676</td>\n      <td>-0.012350</td>\n      <td>0.037798</td>\n      <td>0.098588</td>\n      <td>-0.012350</td>\n      <td>0.051479</td>\n      <td>0.027562</td>\n      <td>...</td>\n      <td>0.076424</td>\n      <td>0.070523</td>\n      <td>0.021366</td>\n      <td>0.205231</td>\n      <td>0.203917</td>\n      <td>0.063007</td>\n      <td>1.000000</td>\n      <td>-0.005776</td>\n      <td>0.124093</td>\n      <td>0.221277</td>\n    </tr>\n    <tr>\n      <th>939</th>\n      <td>0.046566</td>\n      <td>-0.011982</td>\n      <td>-0.019318</td>\n      <td>-0.017550</td>\n      <td>-0.009552</td>\n      <td>-0.019817</td>\n      <td>0.035518</td>\n      <td>-0.009552</td>\n      <td>-0.016782</td>\n      <td>-0.022654</td>\n      <td>...</td>\n      <td>-0.006845</td>\n      <td>0.043180</td>\n      <td>0.142292</td>\n      <td>0.131366</td>\n      <td>0.452684</td>\n      <td>-0.007989</td>\n      <td>-0.005776</td>\n      <td>1.000000</td>\n      <td>0.162944</td>\n      <td>0.286958</td>\n    </tr>\n    <tr>\n      <th>940</th>\n      <td>0.046566</td>\n      <td>-0.011982</td>\n      <td>-0.019318</td>\n      <td>0.027804</td>\n      <td>-0.009552</td>\n      <td>-0.019817</td>\n      <td>0.035518</td>\n      <td>-0.009552</td>\n      <td>0.030383</td>\n      <td>-0.022654</td>\n      <td>...</td>\n      <td>-0.006845</td>\n      <td>0.043180</td>\n      <td>0.037486</td>\n      <td>0.268210</td>\n      <td>0.083977</td>\n      <td>-0.007989</td>\n      <td>0.124093</td>\n      <td>0.162944</td>\n      <td>1.000000</td>\n      <td>0.576492</td>\n    </tr>\n    <tr>\n      <th>941</th>\n      <td>-0.007481</td>\n      <td>-0.006907</td>\n      <td>-0.011137</td>\n      <td>0.068320</td>\n      <td>-0.005507</td>\n      <td>-0.011424</td>\n      <td>-0.008878</td>\n      <td>-0.005507</td>\n      <td>-0.009675</td>\n      <td>-0.013060</td>\n      <td>...</td>\n      <td>-0.003946</td>\n      <td>-0.007869</td>\n      <td>0.082030</td>\n      <td>0.233510</td>\n      <td>0.154690</td>\n      <td>-0.004606</td>\n      <td>0.221277</td>\n      <td>0.286958</td>\n      <td>0.576492</td>\n      <td>1.000000</td>\n    </tr>\n  </tbody>\n</table>\n<p>942 rows × 942 columns</p>\n</div>"
     },
     "execution_count": 14,
     "metadata": {},
     "output_type": "execute_result"
    }
   ],
   "source": [
    "user_similarity"
   ],
   "metadata": {
    "collapsed": false,
    "ExecuteTime": {
     "end_time": "2024-07-24T06:06:50.595917200Z",
     "start_time": "2024-07-24T06:06:50.556918400Z"
    }
   },
   "id": "626e5474dea926c8",
   "execution_count": 14
  },
  {
   "cell_type": "code",
   "outputs": [],
   "source": [
    "item_similarity = compute_item_similarity(user_item_matrix)"
   ],
   "metadata": {
    "collapsed": false,
    "ExecuteTime": {
     "end_time": "2024-07-24T06:06:51.009918Z",
     "start_time": "2024-07-24T06:06:50.597918700Z"
    }
   },
   "id": "a56616396d3285fa",
   "execution_count": 15
  },
  {
   "cell_type": "code",
   "outputs": [
    {
     "data": {
      "text/plain": "item_id      0         1         2         3         4         5         6     \\\nitem_id                                                                         \n0        1.000000  0.128388  0.068626  0.162681  0.089398  0.000000  0.000000   \n1        0.128388  1.000000  0.133631  0.093169  0.087039  0.000000  0.102062   \n2        0.068626  0.133631  1.000000  0.199205  0.000000  0.000000  0.000000   \n3        0.162681  0.093169  0.199205  1.000000  0.116775  0.034503  0.136931   \n4        0.089398  0.087039  0.000000  0.116775  1.000000  0.080582  0.159901   \n...           ...       ...       ...       ...       ...       ...       ...   \n1405     0.000000  0.000000  0.000000  0.000000  0.000000  0.000000  0.000000   \n1407     0.104828  0.204124  0.000000  0.000000  0.000000  0.000000  0.000000   \n1408     0.000000  0.000000  0.000000  0.000000  0.000000  0.000000  0.000000   \n1409     0.000000  0.000000  0.000000  0.000000  0.000000  0.000000  0.000000   \n1410     0.000000  0.000000  0.000000  0.000000  0.000000  0.000000  0.000000   \n\nitem_id      7         8         9     ...  1398  1399      1401  1402  1403  \\\nitem_id                                ...                                     \n0        0.096197  0.186813  0.177264  ...   0.0   0.0  0.000000   0.0   0.0   \n1        0.093659  0.106990  0.150075  ...   0.0   0.0  0.000000   0.0   0.0   \n2        0.050063  0.045751  0.112306  ...   0.0   0.0  0.000000   0.0   0.0   \n3        0.125656  0.172251  0.275174  ...   0.0   0.0  0.091287   0.0   0.0   \n4        0.048912  0.044699  0.141073  ...   0.0   0.0  0.000000   0.0   0.0   \n...           ...       ...       ...  ...   ...   ...       ...   ...   ...   \n1405     0.000000  0.000000  0.073521  ...   0.0   0.0  0.000000   0.0   0.0   \n1407     0.000000  0.000000  0.000000  ...   0.0   0.0  0.000000   0.0   0.0   \n1408     0.000000  0.000000  0.073521  ...   0.0   0.0  0.000000   0.0   0.0   \n1409     0.000000  0.000000  0.000000  ...   0.0   0.0  0.000000   0.0   0.0   \n1410     0.000000  0.000000  0.000000  ...   0.0   0.0  0.000000   0.0   0.0   \n\nitem_id  1405      1407  1408  1409  1410  \nitem_id                                    \n0         0.0  0.104828   0.0   0.0   0.0  \n1         0.0  0.204124   0.0   0.0   0.0  \n2         0.0  0.000000   0.0   0.0   0.0  \n3         0.0  0.000000   0.0   0.0   0.0  \n4         0.0  0.000000   0.0   0.0   0.0  \n...       ...       ...   ...   ...   ...  \n1405      1.0  0.000000   0.0   0.0   0.0  \n1407      0.0  1.000000   0.0   0.0   0.0  \n1408      0.0  0.000000   1.0   0.0   0.0  \n1409      0.0  0.000000   0.0   1.0   0.0  \n1410      0.0  0.000000   0.0   0.0   1.0  \n\n[1349 rows x 1349 columns]",
      "text/html": "<div>\n<style scoped>\n    .dataframe tbody tr th:only-of-type {\n        vertical-align: middle;\n    }\n\n    .dataframe tbody tr th {\n        vertical-align: top;\n    }\n\n    .dataframe thead th {\n        text-align: right;\n    }\n</style>\n<table border=\"1\" class=\"dataframe\">\n  <thead>\n    <tr style=\"text-align: right;\">\n      <th>item_id</th>\n      <th>0</th>\n      <th>1</th>\n      <th>2</th>\n      <th>3</th>\n      <th>4</th>\n      <th>5</th>\n      <th>6</th>\n      <th>7</th>\n      <th>8</th>\n      <th>9</th>\n      <th>...</th>\n      <th>1398</th>\n      <th>1399</th>\n      <th>1401</th>\n      <th>1402</th>\n      <th>1403</th>\n      <th>1405</th>\n      <th>1407</th>\n      <th>1408</th>\n      <th>1409</th>\n      <th>1410</th>\n    </tr>\n    <tr>\n      <th>item_id</th>\n      <th></th>\n      <th></th>\n      <th></th>\n      <th></th>\n      <th></th>\n      <th></th>\n      <th></th>\n      <th></th>\n      <th></th>\n      <th></th>\n      <th></th>\n      <th></th>\n      <th></th>\n      <th></th>\n      <th></th>\n      <th></th>\n      <th></th>\n      <th></th>\n      <th></th>\n      <th></th>\n      <th></th>\n    </tr>\n  </thead>\n  <tbody>\n    <tr>\n      <th>0</th>\n      <td>1.000000</td>\n      <td>0.128388</td>\n      <td>0.068626</td>\n      <td>0.162681</td>\n      <td>0.089398</td>\n      <td>0.000000</td>\n      <td>0.000000</td>\n      <td>0.096197</td>\n      <td>0.186813</td>\n      <td>0.177264</td>\n      <td>...</td>\n      <td>0.0</td>\n      <td>0.0</td>\n      <td>0.000000</td>\n      <td>0.0</td>\n      <td>0.0</td>\n      <td>0.0</td>\n      <td>0.104828</td>\n      <td>0.0</td>\n      <td>0.0</td>\n      <td>0.0</td>\n    </tr>\n    <tr>\n      <th>1</th>\n      <td>0.128388</td>\n      <td>1.000000</td>\n      <td>0.133631</td>\n      <td>0.093169</td>\n      <td>0.087039</td>\n      <td>0.000000</td>\n      <td>0.102062</td>\n      <td>0.093659</td>\n      <td>0.106990</td>\n      <td>0.150075</td>\n      <td>...</td>\n      <td>0.0</td>\n      <td>0.0</td>\n      <td>0.000000</td>\n      <td>0.0</td>\n      <td>0.0</td>\n      <td>0.0</td>\n      <td>0.204124</td>\n      <td>0.0</td>\n      <td>0.0</td>\n      <td>0.0</td>\n    </tr>\n    <tr>\n      <th>2</th>\n      <td>0.068626</td>\n      <td>0.133631</td>\n      <td>1.000000</td>\n      <td>0.199205</td>\n      <td>0.000000</td>\n      <td>0.000000</td>\n      <td>0.000000</td>\n      <td>0.050063</td>\n      <td>0.045751</td>\n      <td>0.112306</td>\n      <td>...</td>\n      <td>0.0</td>\n      <td>0.0</td>\n      <td>0.000000</td>\n      <td>0.0</td>\n      <td>0.0</td>\n      <td>0.0</td>\n      <td>0.000000</td>\n      <td>0.0</td>\n      <td>0.0</td>\n      <td>0.0</td>\n    </tr>\n    <tr>\n      <th>3</th>\n      <td>0.162681</td>\n      <td>0.093169</td>\n      <td>0.199205</td>\n      <td>1.000000</td>\n      <td>0.116775</td>\n      <td>0.034503</td>\n      <td>0.136931</td>\n      <td>0.125656</td>\n      <td>0.172251</td>\n      <td>0.275174</td>\n      <td>...</td>\n      <td>0.0</td>\n      <td>0.0</td>\n      <td>0.091287</td>\n      <td>0.0</td>\n      <td>0.0</td>\n      <td>0.0</td>\n      <td>0.000000</td>\n      <td>0.0</td>\n      <td>0.0</td>\n      <td>0.0</td>\n    </tr>\n    <tr>\n      <th>4</th>\n      <td>0.089398</td>\n      <td>0.087039</td>\n      <td>0.000000</td>\n      <td>0.116775</td>\n      <td>1.000000</td>\n      <td>0.080582</td>\n      <td>0.159901</td>\n      <td>0.048912</td>\n      <td>0.044699</td>\n      <td>0.141073</td>\n      <td>...</td>\n      <td>0.0</td>\n      <td>0.0</td>\n      <td>0.000000</td>\n      <td>0.0</td>\n      <td>0.0</td>\n      <td>0.0</td>\n      <td>0.000000</td>\n      <td>0.0</td>\n      <td>0.0</td>\n      <td>0.0</td>\n    </tr>\n    <tr>\n      <th>...</th>\n      <td>...</td>\n      <td>...</td>\n      <td>...</td>\n      <td>...</td>\n      <td>...</td>\n      <td>...</td>\n      <td>...</td>\n      <td>...</td>\n      <td>...</td>\n      <td>...</td>\n      <td>...</td>\n      <td>...</td>\n      <td>...</td>\n      <td>...</td>\n      <td>...</td>\n      <td>...</td>\n      <td>...</td>\n      <td>...</td>\n      <td>...</td>\n      <td>...</td>\n      <td>...</td>\n    </tr>\n    <tr>\n      <th>1405</th>\n      <td>0.000000</td>\n      <td>0.000000</td>\n      <td>0.000000</td>\n      <td>0.000000</td>\n      <td>0.000000</td>\n      <td>0.000000</td>\n      <td>0.000000</td>\n      <td>0.000000</td>\n      <td>0.000000</td>\n      <td>0.073521</td>\n      <td>...</td>\n      <td>0.0</td>\n      <td>0.0</td>\n      <td>0.000000</td>\n      <td>0.0</td>\n      <td>0.0</td>\n      <td>1.0</td>\n      <td>0.000000</td>\n      <td>0.0</td>\n      <td>0.0</td>\n      <td>0.0</td>\n    </tr>\n    <tr>\n      <th>1407</th>\n      <td>0.104828</td>\n      <td>0.204124</td>\n      <td>0.000000</td>\n      <td>0.000000</td>\n      <td>0.000000</td>\n      <td>0.000000</td>\n      <td>0.000000</td>\n      <td>0.000000</td>\n      <td>0.000000</td>\n      <td>0.000000</td>\n      <td>...</td>\n      <td>0.0</td>\n      <td>0.0</td>\n      <td>0.000000</td>\n      <td>0.0</td>\n      <td>0.0</td>\n      <td>0.0</td>\n      <td>1.000000</td>\n      <td>0.0</td>\n      <td>0.0</td>\n      <td>0.0</td>\n    </tr>\n    <tr>\n      <th>1408</th>\n      <td>0.000000</td>\n      <td>0.000000</td>\n      <td>0.000000</td>\n      <td>0.000000</td>\n      <td>0.000000</td>\n      <td>0.000000</td>\n      <td>0.000000</td>\n      <td>0.000000</td>\n      <td>0.000000</td>\n      <td>0.073521</td>\n      <td>...</td>\n      <td>0.0</td>\n      <td>0.0</td>\n      <td>0.000000</td>\n      <td>0.0</td>\n      <td>0.0</td>\n      <td>0.0</td>\n      <td>0.000000</td>\n      <td>1.0</td>\n      <td>0.0</td>\n      <td>0.0</td>\n    </tr>\n    <tr>\n      <th>1409</th>\n      <td>0.000000</td>\n      <td>0.000000</td>\n      <td>0.000000</td>\n      <td>0.000000</td>\n      <td>0.000000</td>\n      <td>0.000000</td>\n      <td>0.000000</td>\n      <td>0.000000</td>\n      <td>0.000000</td>\n      <td>0.000000</td>\n      <td>...</td>\n      <td>0.0</td>\n      <td>0.0</td>\n      <td>0.000000</td>\n      <td>0.0</td>\n      <td>0.0</td>\n      <td>0.0</td>\n      <td>0.000000</td>\n      <td>0.0</td>\n      <td>1.0</td>\n      <td>0.0</td>\n    </tr>\n    <tr>\n      <th>1410</th>\n      <td>0.000000</td>\n      <td>0.000000</td>\n      <td>0.000000</td>\n      <td>0.000000</td>\n      <td>0.000000</td>\n      <td>0.000000</td>\n      <td>0.000000</td>\n      <td>0.000000</td>\n      <td>0.000000</td>\n      <td>0.000000</td>\n      <td>...</td>\n      <td>0.0</td>\n      <td>0.0</td>\n      <td>0.000000</td>\n      <td>0.0</td>\n      <td>0.0</td>\n      <td>0.0</td>\n      <td>0.000000</td>\n      <td>0.0</td>\n      <td>0.0</td>\n      <td>1.0</td>\n    </tr>\n  </tbody>\n</table>\n<p>1349 rows × 1349 columns</p>\n</div>"
     },
     "execution_count": 16,
     "metadata": {},
     "output_type": "execute_result"
    }
   ],
   "source": [
    "item_similarity"
   ],
   "metadata": {
    "collapsed": false,
    "ExecuteTime": {
     "end_time": "2024-07-24T06:06:51.083916700Z",
     "start_time": "2024-07-24T06:06:50.996918100Z"
    }
   },
   "id": "9b29b7eef90f6180",
   "execution_count": 16
  },
  {
   "cell_type": "code",
   "outputs": [
    {
     "name": "stdout",
     "output_type": "stream",
     "text": [
      "Int64Index([  0,   1,   2,   3,   4,   5,   6,   7,   8,   9,\n",
      "            ...\n",
      "            932, 933, 934, 935, 936, 937, 938, 939, 940, 941],\n",
      "           dtype='int64', name='user_id', length=942)\n",
      "user_id\n",
      "356    0.0\n",
      "792    0.0\n",
      "471    0.0\n",
      "673    0.0\n",
      "885    0.0\n",
      "73     0.0\n",
      "69     0.0\n",
      "771    0.0\n",
      "883    0.0\n",
      "31     0.0\n",
      "Name: 1, dtype: float64\n"
     ]
    },
    {
     "ename": "InvalidIndexError",
     "evalue": "(0, user_id\n940    356\n939    792\n938    471\n937    673\n936    885\n935     73\n934     69\n933    771\n932    883\n931     31\nName: 0, dtype: int64)",
     "output_type": "error",
     "traceback": [
      "\u001B[1;31m---------------------------------------------------------------------------\u001B[0m",
      "\u001B[1;31mTypeError\u001B[0m                                 Traceback (most recent call last)",
      "File \u001B[1;32mD:\\WorkSoft\\environment\\anaconda_env\\dirs\\DataMining\\lib\\site-packages\\pandas\\core\\indexes\\base.py:3802\u001B[0m, in \u001B[0;36mIndex.get_loc\u001B[1;34m(self, key, method, tolerance)\u001B[0m\n\u001B[0;32m   3801\u001B[0m \u001B[38;5;28;01mtry\u001B[39;00m:\n\u001B[1;32m-> 3802\u001B[0m     \u001B[38;5;28;01mreturn\u001B[39;00m \u001B[38;5;28;43mself\u001B[39;49m\u001B[38;5;241;43m.\u001B[39;49m\u001B[43m_engine\u001B[49m\u001B[38;5;241;43m.\u001B[39;49m\u001B[43mget_loc\u001B[49m\u001B[43m(\u001B[49m\u001B[43mcasted_key\u001B[49m\u001B[43m)\u001B[49m\n\u001B[0;32m   3803\u001B[0m \u001B[38;5;28;01mexcept\u001B[39;00m \u001B[38;5;167;01mKeyError\u001B[39;00m \u001B[38;5;28;01mas\u001B[39;00m err:\n",
      "File \u001B[1;32mD:\\WorkSoft\\environment\\anaconda_env\\dirs\\DataMining\\lib\\site-packages\\pandas\\_libs\\index.pyx:138\u001B[0m, in \u001B[0;36mpandas._libs.index.IndexEngine.get_loc\u001B[1;34m()\u001B[0m\n",
      "File \u001B[1;32mD:\\WorkSoft\\environment\\anaconda_env\\dirs\\DataMining\\lib\\site-packages\\pandas\\_libs\\index.pyx:144\u001B[0m, in \u001B[0;36mpandas._libs.index.IndexEngine.get_loc\u001B[1;34m()\u001B[0m\n",
      "\u001B[1;31mTypeError\u001B[0m: '(0, user_id\n940    356\n939    792\n938    471\n937    673\n936    885\n935     73\n934     69\n933    771\n932    883\n931     31\nName: 0, dtype: int64)' is an invalid key",
      "\nDuring handling of the above exception, another exception occurred:\n",
      "\u001B[1;31mInvalidIndexError\u001B[0m                         Traceback (most recent call last)",
      "Cell \u001B[1;32mIn[17], line 12\u001B[0m\n\u001B[0;32m     10\u001B[0m similar_users_ratings \u001B[38;5;241m=\u001B[39m user_item_matrix\u001B[38;5;241m.\u001B[39miloc[similar_users, item_id]\n\u001B[0;32m     11\u001B[0m \u001B[38;5;28mprint\u001B[39m(similar_users_ratings)\n\u001B[1;32m---> 12\u001B[0m similar_users_similarities \u001B[38;5;241m=\u001B[39m \u001B[43muser_similarity\u001B[49m\u001B[43m[\u001B[49m\u001B[43mi\u001B[49m\u001B[43m,\u001B[49m\u001B[43m \u001B[49m\u001B[43msimilar_users\u001B[49m\u001B[43m]\u001B[49m\n\u001B[0;32m     13\u001B[0m \u001B[38;5;66;03m# 过滤掉相似用户中未评分的情况\u001B[39;00m\n\u001B[0;32m     14\u001B[0m mask \u001B[38;5;241m=\u001B[39m similar_users_ratings \u001B[38;5;241m>\u001B[39m \u001B[38;5;241m0\u001B[39m\n",
      "File \u001B[1;32mD:\\WorkSoft\\environment\\anaconda_env\\dirs\\DataMining\\lib\\site-packages\\pandas\\core\\frame.py:3807\u001B[0m, in \u001B[0;36mDataFrame.__getitem__\u001B[1;34m(self, key)\u001B[0m\n\u001B[0;32m   3805\u001B[0m \u001B[38;5;28;01mif\u001B[39;00m \u001B[38;5;28mself\u001B[39m\u001B[38;5;241m.\u001B[39mcolumns\u001B[38;5;241m.\u001B[39mnlevels \u001B[38;5;241m>\u001B[39m \u001B[38;5;241m1\u001B[39m:\n\u001B[0;32m   3806\u001B[0m     \u001B[38;5;28;01mreturn\u001B[39;00m \u001B[38;5;28mself\u001B[39m\u001B[38;5;241m.\u001B[39m_getitem_multilevel(key)\n\u001B[1;32m-> 3807\u001B[0m indexer \u001B[38;5;241m=\u001B[39m \u001B[38;5;28;43mself\u001B[39;49m\u001B[38;5;241;43m.\u001B[39;49m\u001B[43mcolumns\u001B[49m\u001B[38;5;241;43m.\u001B[39;49m\u001B[43mget_loc\u001B[49m\u001B[43m(\u001B[49m\u001B[43mkey\u001B[49m\u001B[43m)\u001B[49m\n\u001B[0;32m   3808\u001B[0m \u001B[38;5;28;01mif\u001B[39;00m is_integer(indexer):\n\u001B[0;32m   3809\u001B[0m     indexer \u001B[38;5;241m=\u001B[39m [indexer]\n",
      "File \u001B[1;32mD:\\WorkSoft\\environment\\anaconda_env\\dirs\\DataMining\\lib\\site-packages\\pandas\\core\\indexes\\base.py:3809\u001B[0m, in \u001B[0;36mIndex.get_loc\u001B[1;34m(self, key, method, tolerance)\u001B[0m\n\u001B[0;32m   3804\u001B[0m         \u001B[38;5;28;01mraise\u001B[39;00m \u001B[38;5;167;01mKeyError\u001B[39;00m(key) \u001B[38;5;28;01mfrom\u001B[39;00m \u001B[38;5;21;01merr\u001B[39;00m\n\u001B[0;32m   3805\u001B[0m     \u001B[38;5;28;01mexcept\u001B[39;00m \u001B[38;5;167;01mTypeError\u001B[39;00m:\n\u001B[0;32m   3806\u001B[0m         \u001B[38;5;66;03m# If we have a listlike key, _check_indexing_error will raise\u001B[39;00m\n\u001B[0;32m   3807\u001B[0m         \u001B[38;5;66;03m#  InvalidIndexError. Otherwise we fall through and re-raise\u001B[39;00m\n\u001B[0;32m   3808\u001B[0m         \u001B[38;5;66;03m#  the TypeError.\u001B[39;00m\n\u001B[1;32m-> 3809\u001B[0m         \u001B[38;5;28;43mself\u001B[39;49m\u001B[38;5;241;43m.\u001B[39;49m\u001B[43m_check_indexing_error\u001B[49m\u001B[43m(\u001B[49m\u001B[43mkey\u001B[49m\u001B[43m)\u001B[49m\n\u001B[0;32m   3810\u001B[0m         \u001B[38;5;28;01mraise\u001B[39;00m\n\u001B[0;32m   3812\u001B[0m \u001B[38;5;66;03m# GH#42269\u001B[39;00m\n",
      "File \u001B[1;32mD:\\WorkSoft\\environment\\anaconda_env\\dirs\\DataMining\\lib\\site-packages\\pandas\\core\\indexes\\base.py:5925\u001B[0m, in \u001B[0;36mIndex._check_indexing_error\u001B[1;34m(self, key)\u001B[0m\n\u001B[0;32m   5921\u001B[0m \u001B[38;5;28;01mdef\u001B[39;00m \u001B[38;5;21m_check_indexing_error\u001B[39m(\u001B[38;5;28mself\u001B[39m, key):\n\u001B[0;32m   5922\u001B[0m     \u001B[38;5;28;01mif\u001B[39;00m \u001B[38;5;129;01mnot\u001B[39;00m is_scalar(key):\n\u001B[0;32m   5923\u001B[0m         \u001B[38;5;66;03m# if key is not a scalar, directly raise an error (the code below\u001B[39;00m\n\u001B[0;32m   5924\u001B[0m         \u001B[38;5;66;03m# would convert to numpy arrays and raise later any way) - GH29926\u001B[39;00m\n\u001B[1;32m-> 5925\u001B[0m         \u001B[38;5;28;01mraise\u001B[39;00m InvalidIndexError(key)\n",
      "\u001B[1;31mInvalidIndexError\u001B[0m: (0, user_id\n940    356\n939    792\n938    471\n937    673\n936    885\n935     73\n934     69\n933    771\n932    883\n931     31\nName: 0, dtype: int64)"
     ]
    }
   ],
   "source": [
    "user_ids = user_item_matrix.index\n",
    "print(user_ids)\n",
    "# 3.1 获取前n个相似度最高的用户\n",
    "for i, user_id in enumerate(user_ids):\n",
    "    user_vector = user_item_matrix.iloc[i]\n",
    "    similar_users = user_similarity[i].argsort()[::-1][1:11]  # 取前K个最相似的用户（除了自己）\n",
    "    # 3.2 遍历item，获取top-k最高得分的item\n",
    "    for item_id in user_item_matrix.columns:\n",
    "        if user_vector[item_id] == 0:  # 用户未交互过的物品\n",
    "            similar_users_ratings = user_item_matrix.iloc[similar_users, item_id]\n",
    "            similar_users_similarities = user_similarity.iloc[i, similar_users]\n",
    "            # 过滤掉相似用户中未评分的情况\n",
    "            mask = similar_users_ratings > 0\n",
    "            if mask.sum() == 0:\n",
    "                continue\n",
    "\n",
    "            filtered_similar_users_ratings = similar_users_ratings[mask]\n",
    "            filtered_similar_users_similarities = similar_users_similarities[mask]\n",
    "            \n",
    "            print(\"Similar users' ratings:\", filtered_similar_users_ratings)\n",
    "            print(\"Similar users' similarities:\", filtered_similar_users_similarities)\n",
    "            print(\"Sum of similar users' ratings:\", np.sum(filtered_similar_users_ratings))\n",
    "\n",
    "            # 加权平均得分\n",
    "            score = np.sum(filtered_similar_users_ratings * filtered_similar_users_similarities) / np.sum(filtered_similar_users_similarities)\n",
    "            print(\"Predicted score for item\", item_id, \":\", score)\n",
    "            break\n",
    "    break"
   ],
   "metadata": {
    "collapsed": false,
    "ExecuteTime": {
     "end_time": "2024-07-24T06:06:55.073036600Z",
     "start_time": "2024-07-24T06:06:51.069918200Z"
    }
   },
   "id": "f83672e9562584c2",
   "execution_count": 17
  },
  {
   "cell_type": "code",
   "outputs": [],
   "source": [
    "similar_users = user_similarity[0].argsort()[::-1][1:11]"
   ],
   "metadata": {
    "collapsed": false,
    "ExecuteTime": {
     "end_time": "2024-07-24T06:08:10.331724400Z",
     "start_time": "2024-07-24T06:08:10.305721700Z"
    }
   },
   "id": "e5b710883e895de",
   "execution_count": 19
  },
  {
   "cell_type": "code",
   "outputs": [
    {
     "name": "stdout",
     "output_type": "stream",
     "text": [
      "user_id\n",
      "940    356\n",
      "939    792\n",
      "938    471\n",
      "937    673\n",
      "936    885\n",
      "935     73\n",
      "934     69\n",
      "933    771\n",
      "932    883\n",
      "931     31\n",
      "Name: 0, dtype: int64\n"
     ]
    }
   ],
   "source": [
    "print(similar_users)"
   ],
   "metadata": {
    "collapsed": false,
    "ExecuteTime": {
     "end_time": "2024-07-24T06:08:16.419008100Z",
     "start_time": "2024-07-24T06:08:16.376008700Z"
    }
   },
   "id": "15a3d31fed866e2a",
   "execution_count": 20
  },
  {
   "cell_type": "code",
   "outputs": [
    {
     "name": "stdout",
     "output_type": "stream",
     "text": [
      "user_id\n",
      "356    1.0\n",
      "792    0.0\n",
      "471    1.0\n",
      "673    0.0\n",
      "885    0.0\n",
      "73     1.0\n",
      "69     0.0\n",
      "771    0.0\n",
      "883    0.0\n",
      "31     0.0\n",
      "Name: 101, dtype: float64\n"
     ]
    }
   ],
   "source": [
    "similar_users_ratings = user_item_matrix.iloc[similar_users, 101]\n",
    "print(similar_users_ratings)"
   ],
   "metadata": {
    "collapsed": false,
    "ExecuteTime": {
     "end_time": "2024-07-24T06:10:55.736989900Z",
     "start_time": "2024-07-24T06:10:55.708991Z"
    }
   },
   "id": "8972e2f47d6a5f2b",
   "execution_count": 27
  },
  {
   "cell_type": "code",
   "outputs": [
    {
     "name": "stdout",
     "output_type": "stream",
     "text": [
      "user_id\n",
      "356    0.301166\n",
      "792    0.286587\n",
      "471    0.279055\n",
      "673    0.272116\n",
      "885    0.266444\n",
      "73     0.266285\n",
      "69     0.262847\n",
      "771    0.262222\n",
      "883    0.258791\n",
      "31     0.258791\n",
      "Name: 0, dtype: float64\n"
     ]
    }
   ],
   "source": [
    "similar_users_similarities = user_similarity.iloc[0, similar_users]\n",
    "print(similar_users_similarities)"
   ],
   "metadata": {
    "collapsed": false,
    "ExecuteTime": {
     "end_time": "2024-07-24T06:10:57.896531500Z",
     "start_time": "2024-07-24T06:10:57.862535300Z"
    }
   },
   "id": "5c573c22f67b629d",
   "execution_count": 28
  },
  {
   "cell_type": "code",
   "outputs": [
    {
     "data": {
      "text/plain": "0.3118681907430994"
     },
     "execution_count": 29,
     "metadata": {},
     "output_type": "execute_result"
    }
   ],
   "source": [
    "np.sum(similar_users_ratings * similar_users_similarities) / np.sum(similar_users_similarities)"
   ],
   "metadata": {
    "collapsed": false,
    "ExecuteTime": {
     "end_time": "2024-07-24T06:11:33.593854900Z",
     "start_time": "2024-07-24T06:11:33.566873500Z"
    }
   },
   "id": "f8d75ee70cbdaf71",
   "execution_count": 29
  },
  {
   "cell_type": "code",
   "outputs": [
    {
     "data": {
      "text/plain": "user_id\n356    0.301166\n792    0.000000\n471    0.279055\n673    0.000000\n885    0.000000\n73     0.266285\n69     0.000000\n771    0.000000\n883    0.000000\n31     0.000000\ndtype: float64"
     },
     "execution_count": 30,
     "metadata": {},
     "output_type": "execute_result"
    }
   ],
   "source": [
    "similar_users_ratings * similar_users_similarities"
   ],
   "metadata": {
    "collapsed": false,
    "ExecuteTime": {
     "end_time": "2024-07-24T06:11:44.407644500Z",
     "start_time": "2024-07-24T06:11:44.373610900Z"
    }
   },
   "id": "c7055de4cae85693",
   "execution_count": 30
  },
  {
   "cell_type": "code",
   "outputs": [
    {
     "data": {
      "text/plain": "2.714303360053586"
     },
     "execution_count": 31,
     "metadata": {},
     "output_type": "execute_result"
    }
   ],
   "source": [
    "np.sum(similar_users_similarities)"
   ],
   "metadata": {
    "collapsed": false,
    "ExecuteTime": {
     "end_time": "2024-07-24T06:11:53.638934100Z",
     "start_time": "2024-07-24T06:11:53.599935700Z"
    }
   },
   "id": "9f4132e04289981d",
   "execution_count": 31
  },
  {
   "cell_type": "code",
   "outputs": [
    {
     "data": {
      "text/plain": "0.8465048780278275"
     },
     "execution_count": 32,
     "metadata": {},
     "output_type": "execute_result"
    }
   ],
   "source": [
    "np.sum(similar_users_ratings * similar_users_similarities)"
   ],
   "metadata": {
    "collapsed": false,
    "ExecuteTime": {
     "end_time": "2024-07-24T06:11:58.495217300Z",
     "start_time": "2024-07-24T06:11:58.449534500Z"
    }
   },
   "id": "ef6e4fc21b3a5e91",
   "execution_count": 32
  },
  {
   "cell_type": "code",
   "outputs": [],
   "source": [],
   "metadata": {
    "collapsed": false
   },
   "id": "7b8ce0d5d1749047"
  }
 ],
 "metadata": {
  "kernelspec": {
   "name": "datamining",
   "language": "python",
   "display_name": "DataMining"
  },
  "language_info": {
   "codemirror_mode": {
    "name": "ipython",
    "version": 2
   },
   "file_extension": ".py",
   "mimetype": "text/x-python",
   "name": "python",
   "nbconvert_exporter": "python",
   "pygments_lexer": "ipython2",
   "version": "2.7.6"
  }
 },
 "nbformat": 4,
 "nbformat_minor": 5
}
