{
 "cells": [
  {
   "cell_type": "code",
   "execution_count": 1,
   "id": "initial_id",
   "metadata": {
    "collapsed": true,
    "ExecuteTime": {
     "end_time": "2024-07-16T06:56:38.313784400Z",
     "start_time": "2024-07-16T06:56:35.545337200Z"
    }
   },
   "outputs": [],
   "source": [
    "import numpy as np\n",
    "import pandas as pd\n",
    "import networkx as nx\n",
    "import matplotlib.pyplot as plt\n",
    "import seaborn as sns"
   ]
  },
  {
   "cell_type": "markdown",
   "source": [
    "数据探索"
   ],
   "metadata": {
    "collapsed": false
   },
   "id": "93e8046b0c633122"
  },
  {
   "cell_type": "code",
   "outputs": [
    {
     "data": {
      "text/plain": "   user_id  item_id  click\n0      298      474      1\n1      253      465      1\n2      286     1014      1\n3      200      222      1\n4      122      387      1",
      "text/html": "<div>\n<style scoped>\n    .dataframe tbody tr th:only-of-type {\n        vertical-align: middle;\n    }\n\n    .dataframe tbody tr th {\n        vertical-align: top;\n    }\n\n    .dataframe thead th {\n        text-align: right;\n    }\n</style>\n<table border=\"1\" class=\"dataframe\">\n  <thead>\n    <tr style=\"text-align: right;\">\n      <th></th>\n      <th>user_id</th>\n      <th>item_id</th>\n      <th>click</th>\n    </tr>\n  </thead>\n  <tbody>\n    <tr>\n      <th>0</th>\n      <td>298</td>\n      <td>474</td>\n      <td>1</td>\n    </tr>\n    <tr>\n      <th>1</th>\n      <td>253</td>\n      <td>465</td>\n      <td>1</td>\n    </tr>\n    <tr>\n      <th>2</th>\n      <td>286</td>\n      <td>1014</td>\n      <td>1</td>\n    </tr>\n    <tr>\n      <th>3</th>\n      <td>200</td>\n      <td>222</td>\n      <td>1</td>\n    </tr>\n    <tr>\n      <th>4</th>\n      <td>122</td>\n      <td>387</td>\n      <td>1</td>\n    </tr>\n  </tbody>\n</table>\n</div>"
     },
     "execution_count": 2,
     "metadata": {},
     "output_type": "execute_result"
    }
   ],
   "source": [
    "data = pd.read_csv(\"../data/training.txt\", sep=\" \", header=None, names=['user_id', 'item_id', 'click'])\n",
    "data.head()"
   ],
   "metadata": {
    "collapsed": false,
    "ExecuteTime": {
     "end_time": "2024-07-16T06:56:38.566564100Z",
     "start_time": "2024-07-16T06:56:38.260256300Z"
    }
   },
   "id": "bc257a9f5eed2cdd",
   "execution_count": 2
  },
  {
   "cell_type": "code",
   "outputs": [
    {
     "data": {
      "text/plain": "0"
     },
     "execution_count": 3,
     "metadata": {},
     "output_type": "execute_result"
    }
   ],
   "source": [
    "data.duplicated(subset=['user_id','item_id']).sum() \n",
    "# 发现不存在重复的行"
   ],
   "metadata": {
    "collapsed": false,
    "ExecuteTime": {
     "end_time": "2024-07-16T06:56:38.673561500Z",
     "start_time": "2024-07-16T06:56:38.564563100Z"
    }
   },
   "id": "340fa5fd3aec9f87",
   "execution_count": 3
  },
  {
   "cell_type": "code",
   "outputs": [
    {
     "name": "stdout",
     "output_type": "stream",
     "text": [
      "(44234, 3)\n",
      "user_id     942\n",
      "item_id    1412\n",
      "click         1\n",
      "dtype: int64\n"
     ]
    }
   ],
   "source": [
    "print(data.shape)\n",
    "print(data.nunique())"
   ],
   "metadata": {
    "collapsed": false,
    "ExecuteTime": {
     "end_time": "2024-07-16T06:56:38.702564600Z",
     "start_time": "2024-07-16T06:56:38.622563200Z"
    }
   },
   "id": "320daacc4d48e02",
   "execution_count": 4
  },
  {
   "cell_type": "code",
   "outputs": [
    {
     "data": {
      "text/plain": "(926, 1)"
     },
     "execution_count": 5,
     "metadata": {},
     "output_type": "execute_result"
    }
   ],
   "source": [
    "target_user = pd.read_csv(\"../data/test.txt\", sep=\" \", header=None, names=['user_id'])\n",
    "target_user.drop_duplicates(subset=[\"user_id\"],keep=\"first\", inplace=True)\n",
    "target_user.shape\n",
    "# 需要进行top-n推荐的用户只有926个"
   ],
   "metadata": {
    "collapsed": false,
    "ExecuteTime": {
     "end_time": "2024-07-16T06:56:38.793561600Z",
     "start_time": "2024-07-16T06:56:38.638562100Z"
    }
   },
   "id": "fbfb629454a1b153",
   "execution_count": 5
  },
  {
   "cell_type": "code",
   "outputs": [
    {
     "data": {
      "text/plain": "array([108, 289,  86, 155, 273, 400, 490, 443, 544, 631, 656, 646, 792,\n       857, 822, 578], dtype=int64)"
     },
     "execution_count": 6,
     "metadata": {},
     "output_type": "execute_result"
    }
   ],
   "source": [
    "data[~data['user_id'].isin(target_user['user_id'].tolist())].user_id.unique()"
   ],
   "metadata": {
    "collapsed": false,
    "ExecuteTime": {
     "end_time": "2024-07-16T06:56:38.825561500Z",
     "start_time": "2024-07-16T06:56:38.701562600Z"
    }
   },
   "id": "86a801295e52ceea",
   "execution_count": 6
  },
  {
   "cell_type": "markdown",
   "source": [
    "training中存在942个不同的用户，test中只包含926个用户，有16个用户不在test中。"
   ],
   "metadata": {
    "collapsed": false
   },
   "id": "32e9880a6df54668"
  },
  {
   "cell_type": "code",
   "outputs": [
    {
     "data": {
      "text/plain": "          user_id\ncount  926.000000\nmean   471.534557\nstd    272.910488\nmin      1.000000\n25%    235.250000\n50%    470.500000\n75%    708.750000\nmax    943.000000",
      "text/html": "<div>\n<style scoped>\n    .dataframe tbody tr th:only-of-type {\n        vertical-align: middle;\n    }\n\n    .dataframe tbody tr th {\n        vertical-align: top;\n    }\n\n    .dataframe thead th {\n        text-align: right;\n    }\n</style>\n<table border=\"1\" class=\"dataframe\">\n  <thead>\n    <tr style=\"text-align: right;\">\n      <th></th>\n      <th>user_id</th>\n    </tr>\n  </thead>\n  <tbody>\n    <tr>\n      <th>count</th>\n      <td>926.000000</td>\n    </tr>\n    <tr>\n      <th>mean</th>\n      <td>471.534557</td>\n    </tr>\n    <tr>\n      <th>std</th>\n      <td>272.910488</td>\n    </tr>\n    <tr>\n      <th>min</th>\n      <td>1.000000</td>\n    </tr>\n    <tr>\n      <th>25%</th>\n      <td>235.250000</td>\n    </tr>\n    <tr>\n      <th>50%</th>\n      <td>470.500000</td>\n    </tr>\n    <tr>\n      <th>75%</th>\n      <td>708.750000</td>\n    </tr>\n    <tr>\n      <th>max</th>\n      <td>943.000000</td>\n    </tr>\n  </tbody>\n</table>\n</div>"
     },
     "execution_count": 7,
     "metadata": {},
     "output_type": "execute_result"
    }
   ],
   "source": [
    "target_user.describe()"
   ],
   "metadata": {
    "collapsed": false,
    "ExecuteTime": {
     "end_time": "2024-07-16T06:56:38.878561Z",
     "start_time": "2024-07-16T06:56:38.719563300Z"
    }
   },
   "id": "1935351578cd2df5",
   "execution_count": 7
  },
  {
   "cell_type": "code",
   "outputs": [
    {
     "data": {
      "text/plain": "            user_id       item_id    click\ncount  44234.000000  44234.000000  44234.0\nmean     459.633269    377.046073      1.0\nstd      267.952940    300.498038      0.0\nmin        1.000000      1.000000      1.0\n25%      253.000000    160.000000      1.0\n50%      445.500000    286.000000      1.0\n75%      682.000000    527.000000      1.0\nmax      943.000000   1674.000000      1.0",
      "text/html": "<div>\n<style scoped>\n    .dataframe tbody tr th:only-of-type {\n        vertical-align: middle;\n    }\n\n    .dataframe tbody tr th {\n        vertical-align: top;\n    }\n\n    .dataframe thead th {\n        text-align: right;\n    }\n</style>\n<table border=\"1\" class=\"dataframe\">\n  <thead>\n    <tr style=\"text-align: right;\">\n      <th></th>\n      <th>user_id</th>\n      <th>item_id</th>\n      <th>click</th>\n    </tr>\n  </thead>\n  <tbody>\n    <tr>\n      <th>count</th>\n      <td>44234.000000</td>\n      <td>44234.000000</td>\n      <td>44234.0</td>\n    </tr>\n    <tr>\n      <th>mean</th>\n      <td>459.633269</td>\n      <td>377.046073</td>\n      <td>1.0</td>\n    </tr>\n    <tr>\n      <th>std</th>\n      <td>267.952940</td>\n      <td>300.498038</td>\n      <td>0.0</td>\n    </tr>\n    <tr>\n      <th>min</th>\n      <td>1.000000</td>\n      <td>1.000000</td>\n      <td>1.0</td>\n    </tr>\n    <tr>\n      <th>25%</th>\n      <td>253.000000</td>\n      <td>160.000000</td>\n      <td>1.0</td>\n    </tr>\n    <tr>\n      <th>50%</th>\n      <td>445.500000</td>\n      <td>286.000000</td>\n      <td>1.0</td>\n    </tr>\n    <tr>\n      <th>75%</th>\n      <td>682.000000</td>\n      <td>527.000000</td>\n      <td>1.0</td>\n    </tr>\n    <tr>\n      <th>max</th>\n      <td>943.000000</td>\n      <td>1674.000000</td>\n      <td>1.0</td>\n    </tr>\n  </tbody>\n</table>\n</div>"
     },
     "execution_count": 8,
     "metadata": {},
     "output_type": "execute_result"
    }
   ],
   "source": [
    "data.describe()"
   ],
   "metadata": {
    "collapsed": false,
    "ExecuteTime": {
     "end_time": "2024-07-16T06:56:38.883564Z",
     "start_time": "2024-07-16T06:56:38.762563400Z"
    }
   },
   "id": "530ac12bc0c0e377",
   "execution_count": 8
  },
  {
   "cell_type": "code",
   "outputs": [],
   "source": [
    "# 可以发现user_id编号最小是1，最大是943，item_id编号最小是1，最大是1674。因此需要将编号重新映射一次\n",
    "# 创建用户ID和物品ID的映射\n",
    "user_id_map = {id: i for i, id in enumerate(data['user_id'].unique())}\n",
    "item_id_map = {id: i for i, id in enumerate(data['item_id'].unique())}\n",
    "\n",
    "# 应用映射\n",
    "data['user_id'] = data['user_id'].map(user_id_map)\n",
    "data['item_id'] = data['item_id'].map(item_id_map)\n",
    "target_user['user_id'] = target_user['user_id'].map(user_id_map)"
   ],
   "metadata": {
    "collapsed": false,
    "ExecuteTime": {
     "end_time": "2024-07-16T06:56:38.922255700Z",
     "start_time": "2024-07-16T06:56:38.798563400Z"
    }
   },
   "id": "26c8808ae4d8ca46",
   "execution_count": 9
  },
  {
   "cell_type": "code",
   "outputs": [
    {
     "data": {
      "text/plain": "            user_id       item_id    click\ncount  44234.000000  44234.000000  44234.0\nmean     431.296130    331.144391      1.0\nstd      283.761902    275.367923      0.0\nmin        0.000000      0.000000      1.0\n25%      154.000000    116.000000      1.0\n50%      437.000000    258.000000      1.0\n75%      669.000000    487.000000      1.0\nmax      941.000000   1411.000000      1.0",
      "text/html": "<div>\n<style scoped>\n    .dataframe tbody tr th:only-of-type {\n        vertical-align: middle;\n    }\n\n    .dataframe tbody tr th {\n        vertical-align: top;\n    }\n\n    .dataframe thead th {\n        text-align: right;\n    }\n</style>\n<table border=\"1\" class=\"dataframe\">\n  <thead>\n    <tr style=\"text-align: right;\">\n      <th></th>\n      <th>user_id</th>\n      <th>item_id</th>\n      <th>click</th>\n    </tr>\n  </thead>\n  <tbody>\n    <tr>\n      <th>count</th>\n      <td>44234.000000</td>\n      <td>44234.000000</td>\n      <td>44234.0</td>\n    </tr>\n    <tr>\n      <th>mean</th>\n      <td>431.296130</td>\n      <td>331.144391</td>\n      <td>1.0</td>\n    </tr>\n    <tr>\n      <th>std</th>\n      <td>283.761902</td>\n      <td>275.367923</td>\n      <td>0.0</td>\n    </tr>\n    <tr>\n      <th>min</th>\n      <td>0.000000</td>\n      <td>0.000000</td>\n      <td>1.0</td>\n    </tr>\n    <tr>\n      <th>25%</th>\n      <td>154.000000</td>\n      <td>116.000000</td>\n      <td>1.0</td>\n    </tr>\n    <tr>\n      <th>50%</th>\n      <td>437.000000</td>\n      <td>258.000000</td>\n      <td>1.0</td>\n    </tr>\n    <tr>\n      <th>75%</th>\n      <td>669.000000</td>\n      <td>487.000000</td>\n      <td>1.0</td>\n    </tr>\n    <tr>\n      <th>max</th>\n      <td>941.000000</td>\n      <td>1411.000000</td>\n      <td>1.0</td>\n    </tr>\n  </tbody>\n</table>\n</div>"
     },
     "execution_count": 10,
     "metadata": {},
     "output_type": "execute_result"
    }
   ],
   "source": [
    "data.describe()"
   ],
   "metadata": {
    "collapsed": false,
    "ExecuteTime": {
     "end_time": "2024-07-16T06:56:38.968255600Z",
     "start_time": "2024-07-16T06:56:38.844563500Z"
    }
   },
   "id": "860bd20ef0f29f60",
   "execution_count": 10
  },
  {
   "cell_type": "code",
   "outputs": [
    {
     "data": {
      "text/plain": "          user_id\ncount  926.000000\nmean   469.155508\nstd    272.512009\nmin      0.000000\n25%    232.250000\n50%    468.500000\n75%    704.750000\nmax    941.000000",
      "text/html": "<div>\n<style scoped>\n    .dataframe tbody tr th:only-of-type {\n        vertical-align: middle;\n    }\n\n    .dataframe tbody tr th {\n        vertical-align: top;\n    }\n\n    .dataframe thead th {\n        text-align: right;\n    }\n</style>\n<table border=\"1\" class=\"dataframe\">\n  <thead>\n    <tr style=\"text-align: right;\">\n      <th></th>\n      <th>user_id</th>\n    </tr>\n  </thead>\n  <tbody>\n    <tr>\n      <th>count</th>\n      <td>926.000000</td>\n    </tr>\n    <tr>\n      <th>mean</th>\n      <td>469.155508</td>\n    </tr>\n    <tr>\n      <th>std</th>\n      <td>272.512009</td>\n    </tr>\n    <tr>\n      <th>min</th>\n      <td>0.000000</td>\n    </tr>\n    <tr>\n      <th>25%</th>\n      <td>232.250000</td>\n    </tr>\n    <tr>\n      <th>50%</th>\n      <td>468.500000</td>\n    </tr>\n    <tr>\n      <th>75%</th>\n      <td>704.750000</td>\n    </tr>\n    <tr>\n      <th>max</th>\n      <td>941.000000</td>\n    </tr>\n  </tbody>\n</table>\n</div>"
     },
     "execution_count": 11,
     "metadata": {},
     "output_type": "execute_result"
    }
   ],
   "source": [
    "target_user.describe()"
   ],
   "metadata": {
    "collapsed": false,
    "ExecuteTime": {
     "end_time": "2024-07-16T06:56:38.999256100Z",
     "start_time": "2024-07-16T06:56:38.881560500Z"
    }
   },
   "id": "26d720e47925726b",
   "execution_count": 11
  },
  {
   "cell_type": "code",
   "outputs": [
    {
     "data": {
      "text/plain": "item_id\n0    125\n1     42\n2     28\n3    172\n4     28\n5      9\n6     27\n7     30\n8    132\n9    258\nName: user_id, dtype: int64"
     },
     "execution_count": 12,
     "metadata": {},
     "output_type": "execute_result"
    }
   ],
   "source": [
    "#统计每个物品对应的用户数\n",
    "item_id_usercnt = data.groupby(\"item_id\").count().user_id\n",
    "item_id_usercnt[:10]"
   ],
   "metadata": {
    "collapsed": false,
    "ExecuteTime": {
     "end_time": "2024-07-16T06:56:39.004256600Z",
     "start_time": "2024-07-16T06:56:38.891563100Z"
    }
   },
   "id": "9646761382fa7100",
   "execution_count": 12
  },
  {
   "cell_type": "code",
   "outputs": [
    {
     "data": {
      "text/plain": "<Figure size 640x480 with 1 Axes>",
      "image/png": "[encoded data removed]"
     },
     "metadata": {},
     "output_type": "display_data"
    }
   ],
   "source": [
    "plt.hist(item_id_usercnt.values)\n",
    "plt.show()"
   ],
   "metadata": {
    "collapsed": false,
    "ExecuteTime": {
     "end_time": "2024-07-16T06:56:40.675296100Z",
     "start_time": "2024-07-16T06:56:38.923256Z"
    }
   },
   "id": "1d2f3b5837b4e2d6",
   "execution_count": 13
  },
  {
   "cell_type": "code",
   "outputs": [
    {
     "data": {
      "text/plain": "0.0      1.0\n0.1      1.0\n0.2      2.0\n0.3      4.0\n0.4      7.0\n0.5     11.0\n0.6     20.0\n0.7     31.0\n0.8     50.0\n0.9     88.0\n1.0    391.0\nName: user_id, dtype: float64"
     },
     "execution_count": 14,
     "metadata": {},
     "output_type": "execute_result"
    }
   ],
   "source": [
    "item_id_usercnt.quantile(q=np.arange(0,1.1,0.1))"
   ],
   "metadata": {
    "collapsed": false,
    "ExecuteTime": {
     "end_time": "2024-07-16T06:56:40.732323300Z",
     "start_time": "2024-07-16T06:56:40.681293600Z"
    }
   },
   "id": "336ddd9c0d61119",
   "execution_count": 14
  },
  {
   "cell_type": "code",
   "outputs": [
    {
     "data": {
      "text/plain": "user_id\n0     70\n1     59\n2    148\n3    124\n4     38\n5    155\n6     97\n7     38\n8    113\n9    198\nName: item_id, dtype: int64"
     },
     "execution_count": 15,
     "metadata": {},
     "output_type": "execute_result"
    }
   ],
   "source": [
    "user_id_itemcnt = data.groupby('user_id').count().item_id\n",
    "user_id_itemcnt[:10]"
   ],
   "metadata": {
    "collapsed": false,
    "ExecuteTime": {
     "end_time": "2024-07-16T06:56:40.770323300Z",
     "start_time": "2024-07-16T06:56:40.693294600Z"
    }
   },
   "id": "c7defe4e9d692ad",
   "execution_count": 15
  },
  {
   "cell_type": "code",
   "outputs": [
    {
     "data": {
      "text/plain": "<Figure size 640x480 with 1 Axes>",
      "image/png": "[encoded data removed]"
     },
     "metadata": {},
     "output_type": "display_data"
    }
   ],
   "source": [
    "plt.hist(user_id_itemcnt.values)\n",
    "plt.show()"
   ],
   "metadata": {
    "collapsed": false,
    "ExecuteTime": {
     "end_time": "2024-07-16T06:56:40.944603900Z",
     "start_time": "2024-07-16T06:56:40.725327800Z"
    }
   },
   "id": "9d702ee15b44b72d",
   "execution_count": 16
  },
  {
   "cell_type": "code",
   "outputs": [
    {
     "data": {
      "text/plain": "0.0      2.0\n0.1      9.0\n0.2     13.2\n0.3     18.0\n0.4     23.0\n0.5     31.0\n0.6     39.0\n0.7     56.0\n0.8     77.0\n0.9    108.9\n1.0    316.0\nName: item_id, dtype: float64"
     },
     "execution_count": 17,
     "metadata": {},
     "output_type": "execute_result"
    }
   ],
   "source": [
    "user_id_itemcnt.quantile(q=np.arange(0,1.1,0.1))"
   ],
   "metadata": {
    "collapsed": false,
    "ExecuteTime": {
     "end_time": "2024-07-16T06:56:40.981606Z",
     "start_time": "2024-07-16T06:56:40.946604700Z"
    }
   },
   "id": "5ab475399719e04c",
   "execution_count": 17
  },
  {
   "cell_type": "code",
   "outputs": [],
   "source": [
    "# 拆分训练集和测试集\n",
    "def split_train_test(data, test_size=0.2):\n",
    "    train_data = []\n",
    "    test_data = []\n",
    "    for user, group in data.groupby('user_id'):\n",
    "        n_test_items = max(1, int(len(group) * test_size))\n",
    "        test_items = group.sample(n=n_test_items)\n",
    "        train_items = group.drop(test_items.index)\n",
    "        train_data.append(train_items)\n",
    "        test_data.append(test_items)\n",
    "    return pd.concat(train_data), pd.concat(test_data)"
   ],
   "metadata": {
    "collapsed": false,
    "ExecuteTime": {
     "end_time": "2024-07-16T06:56:40.982639800Z",
     "start_time": "2024-07-16T06:56:40.964604800Z"
    }
   },
   "id": "6dc18f8089e8d822",
   "execution_count": 18
  },
  {
   "cell_type": "code",
   "outputs": [
    {
     "name": "stdout",
     "output_type": "stream",
     "text": [
      "训练集大小: 35754 (80.83%)\n",
      "测试集大小: 8480 (19.17%)\n",
      "训练集中的用户数: 942\n",
      "测试集中的用户数: 942\n"
     ]
    }
   ],
   "source": [
    "train_data,test_data = split_train_test(data)\n",
    "\n",
    "print(f\"训练集大小: {len(train_data)} ({len(train_data)/len(data):.2%})\")\n",
    "print(f\"测试集大小: {len(test_data)} ({len(test_data)/len(data):.2%})\")\n",
    "\n",
    "print(f\"训练集中的用户数: {train_data['user_id'].nunique()}\")\n",
    "print(f\"测试集中的用户数: {test_data['user_id'].nunique()}\")"
   ],
   "metadata": {
    "collapsed": false,
    "ExecuteTime": {
     "end_time": "2024-07-16T06:56:41.418606700Z",
     "start_time": "2024-07-16T06:56:40.977604400Z"
    }
   },
   "id": "581ce905a4fc7528",
   "execution_count": 19
  },
  {
   "cell_type": "code",
   "outputs": [
    {
     "data": {
      "text/plain": "user_id     942\nitem_id    1375\nclick         1\ndtype: int64"
     },
     "execution_count": 20,
     "metadata": {},
     "output_type": "execute_result"
    }
   ],
   "source": [
    "train_data.nunique()"
   ],
   "metadata": {
    "collapsed": false,
    "ExecuteTime": {
     "end_time": "2024-07-16T06:56:41.455604300Z",
     "start_time": "2024-07-16T06:56:41.420606300Z"
    }
   },
   "id": "8af6b7c3f5bad87d",
   "execution_count": 20
  },
  {
   "cell_type": "code",
   "outputs": [],
   "source": [
    "n_users = data.user_id.nunique()\n",
    "n_items = data.item_id.nunique()"
   ],
   "metadata": {
    "collapsed": false,
    "ExecuteTime": {
     "end_time": "2024-07-16T06:56:41.456608700Z",
     "start_time": "2024-07-16T06:56:41.436610300Z"
    }
   },
   "id": "232427faaa6473a9",
   "execution_count": 21
  },
  {
   "cell_type": "code",
   "outputs": [],
   "source": [
    "# 训练集 用户-物品 矩阵\n",
    "user_item_matrix = np.zeros((n_users,n_items))\n",
    "for line in train_data.itertuples():\n",
    "    user_item_matrix[line[1]-1,line[2]-1] = line[3]"
   ],
   "metadata": {
    "collapsed": false,
    "ExecuteTime": {
     "end_time": "2024-07-16T06:56:41.513606400Z",
     "start_time": "2024-07-16T06:56:41.456608700Z"
    }
   },
   "id": "a4fabec91c63b31d",
   "execution_count": 22
  },
  {
   "cell_type": "code",
   "outputs": [],
   "source": [
    "# 构建相似度\n",
    "from sklearn.metrics.pairwise import pairwise_distances,cosine_similarity\n",
    "from collections import defaultdict\n",
    "\n",
    "user_similarity_m = cosine_similarity(user_item_matrix)"
   ],
   "metadata": {
    "collapsed": false,
    "ExecuteTime": {
     "end_time": "2024-07-16T06:56:43.778713600Z",
     "start_time": "2024-07-16T06:56:41.515606200Z"
    }
   },
   "id": "6a4ddd4446e5f6a3",
   "execution_count": 23
  },
  {
   "cell_type": "code",
   "outputs": [
    {
     "data": {
      "text/plain": "array([0.01 , 0.039, 0.053, 0.067, 0.082, 0.098, 0.116, 0.138, 0.165,\n       0.204, 0.707])"
     },
     "execution_count": 24,
     "metadata": {},
     "output_type": "execute_result"
    }
   ],
   "source": [
    "user_similarity_m_triu = np.triu(user_similarity_m,k=1) # 取得上三角数据\n",
    "user_sim_nonzero = np.round(user_similarity_m_triu[user_similarity_m_triu.nonzero()],3)\n",
    "np.percentile(user_sim_nonzero,np.arange(0,101,10))"
   ],
   "metadata": {
    "collapsed": false,
    "ExecuteTime": {
     "end_time": "2024-07-16T06:56:43.859366500Z",
     "start_time": "2024-07-16T06:56:43.780711500Z"
    }
   },
   "id": "fa818be65f08135b",
   "execution_count": 24
  },
  {
   "cell_type": "code",
   "outputs": [],
   "source": [
    "def get_top_n_recommendations(user_item_matrix, user_similarity, n=10, top_k_users=10):\n",
    "    recommendations = defaultdict(list)\n",
    "    user_ids = user_item_matrix.index\n",
    "    \n",
    "    for i, user_id in enumerate(user_ids):\n",
    "        user_vector = user_item_matrix.iloc[i]\n",
    "        similar_users = user_similarity[i].argsort()[::-1][1:top_k_users+1]\n",
    "        \n",
    "        for item_id in user_item_matrix.columns:\n",
    "            if user_vector[item_id] == 0:\n",
    "                similar_users_ratings = user_item_matrix.iloc[similar_users, item_id]\n",
    "                similar_users_similarities = user_similarity[i, similar_users]\n",
    "                score = np.sum(similar_users_ratings * similar_users_similarities) / np.sum(similar_users_similarities)\n",
    "                \n",
    "                if score > 0:\n",
    "                    recommendations[user_id].append((item_id, score))\n",
    "        \n",
    "        recommendations[user_id] = sorted(recommendations[user_id], key=lambda x: x[1], reverse=True)[:n]\n",
    "    \n",
    "    return recommendations"
   ],
   "metadata": {
    "collapsed": false,
    "ExecuteTime": {
     "end_time": "2024-07-16T06:56:43.902366700Z",
     "start_time": "2024-07-16T06:56:43.866367Z"
    }
   },
   "id": "1670012405e2dd9a",
   "execution_count": 25
  },
  {
   "cell_type": "code",
   "outputs": [],
   "source": [
    "def evaluate(recommendations, test_data, k=10):\n",
    "    precision = defaultdict(float)\n",
    "    recall = defaultdict(float)\n",
    "    \n",
    "    for user, user_recs in recommendations.items():\n",
    "        user_test = set(test_data[test_data['user_id'] == user]['item_id'])\n",
    "        recs = set([item for item, _ in user_recs[:k]])\n",
    "        \n",
    "        if len(recs) > 0:\n",
    "            precision[user] = len(recs & user_test) / len(recs)\n",
    "        if len(user_test) > 0:\n",
    "            recall[user] = len(recs & user_test) / len(user_test)\n",
    "    \n",
    "    avg_precision = np.mean(list(precision.values()))\n",
    "    avg_recall = np.mean(list(recall.values()))\n",
    "    \n",
    "    return avg_precision, avg_recall"
   ],
   "metadata": {
    "collapsed": false,
    "ExecuteTime": {
     "end_time": "2024-07-16T07:18:03.647890400Z",
     "start_time": "2024-07-16T07:18:03.636893700Z"
    }
   },
   "id": "2d5bca5f7da723fb",
   "execution_count": 31
  },
  {
   "cell_type": "code",
   "outputs": [],
   "source": [
    "user_item_matrix2 = pd.DataFrame(user_item_matrix)"
   ],
   "metadata": {
    "collapsed": false,
    "ExecuteTime": {
     "end_time": "2024-07-16T07:16:20.699172300Z",
     "start_time": "2024-07-16T07:16:20.682174Z"
    }
   },
   "id": "5a92b7428ca0649",
   "execution_count": 30
  },
  {
   "cell_type": "code",
   "outputs": [
    {
     "name": "stdout",
     "output_type": "stream",
     "text": [
      "Precision@10: 0.0149\n",
      "Recall@10: 0.0172\n"
     ]
    }
   ],
   "source": [
    "recommendations = get_top_n_recommendations(user_item_matrix2, user_similarity_m, n=10, top_k_users=10)\n",
    "precision, recall = evaluate(recommendations, test_data)\n",
    "print(f\"Precision@10: {precision:.4f}\")\n",
    "print(f\"Recall@10: {recall:.4f}\")"
   ],
   "metadata": {
    "collapsed": false,
    "ExecuteTime": {
     "end_time": "2024-07-16T07:25:10.354268900Z",
     "start_time": "2024-07-16T07:18:07.122561600Z"
    }
   },
   "id": "5272fdc80702dab",
   "execution_count": 32
  },
  {
   "cell_type": "code",
   "outputs": [
    {
     "name": "stdout",
     "output_type": "stream",
     "text": [
      "0\n",
      "       user_id  item_id  click\n",
      "0            0        0      1\n",
      "62           0       59      1\n",
      "813          0      438      1\n",
      "1128         0      296      1\n",
      "1210         0      534      1\n",
      "...        ...      ...    ...\n",
      "32786        0      309      1\n",
      "33082        0      181      1\n",
      "33109        0      185      1\n",
      "42531        0      437      1\n",
      "43741        0      409      1\n",
      "\n",
      "[70 rows x 3 columns]\n"
     ]
    }
   ],
   "source": [
    "for user, group in data.groupby('user_id'):\n",
    "    print(user)\n",
    "    print(group)\n",
    "    break"
   ],
   "metadata": {
    "collapsed": false,
    "ExecuteTime": {
     "end_time": "2024-07-16T08:27:50.024573400Z",
     "start_time": "2024-07-16T08:27:49.989574Z"
    }
   },
   "id": "57871fe2ae5c4c95",
   "execution_count": 33
  },
  {
   "cell_type": "code",
   "outputs": [
    {
     "data": {
      "text/plain": "(6,)"
     },
     "execution_count": 36,
     "metadata": {},
     "output_type": "execute_result"
    }
   ],
   "source": [
    "user_item_matrix2.iloc[[1,2,3,5,7,1], 2].shape"
   ],
   "metadata": {
    "collapsed": false,
    "ExecuteTime": {
     "end_time": "2024-07-16T08:44:06.785747Z",
     "start_time": "2024-07-16T08:44:06.742722Z"
    }
   },
   "id": "2cc3ccfc1c98085b",
   "execution_count": 36
  },
  {
   "cell_type": "code",
   "outputs": [
    {
     "name": "stdout",
     "output_type": "stream",
     "text": [
      "Precision@10: 0.0146\n",
      "Recall@10: 0.0072\n"
     ]
    }
   ],
   "source": [
    "precision, recall = evaluate(recommendations, test_data,k=4)\n",
    "print(f\"Precision@10: {precision:.4f}\")\n",
    "print(f\"Recall@10: {recall:.4f}\")"
   ],
   "metadata": {
    "collapsed": false,
    "ExecuteTime": {
     "end_time": "2024-07-16T08:56:58.556565500Z",
     "start_time": "2024-07-16T08:56:58.279636800Z"
    }
   },
   "id": "6fb1ab5d268f1a50",
   "execution_count": 42
  },
  {
   "cell_type": "code",
   "outputs": [
    {
     "data": {
      "text/plain": "user_id\n168    16\n266     9\n279    11\n287     3\n340    13\n404    13\n481    18\n498    12\n608     7\n615     9\n690     4\n750     5\n789    16\n852    10\n864    10\n882     5\nName: item_id, dtype: int64"
     },
     "execution_count": 55,
     "metadata": {},
     "output_type": "execute_result"
    }
   ],
   "source": [
    "user_id_itemcnt[data[~data['user_id'].isin(target_user['user_id'].tolist())].user_id.unique()]"
   ],
   "metadata": {
    "collapsed": false,
    "ExecuteTime": {
     "end_time": "2024-07-16T09:06:34.032745Z",
     "start_time": "2024-07-16T09:06:33.993710200Z"
    }
   },
   "id": "4ab0d22cb3afc18d",
   "execution_count": 55
  }
 ],
 "metadata": {
  "kernelspec": {
   "name": "datamining",
   "language": "python",
   "display_name": "DataMining"
  },
  "language_info": {
   "codemirror_mode": {
    "name": "ipython",
    "version": 2
   },
   "file_extension": ".py",
   "mimetype": "text/x-python",
   "name": "python",
   "nbconvert_exporter": "python",
   "pygments_lexer": "ipython2",
   "version": "2.7.6"
  }
 },
 "nbformat": 4,
 "nbformat_minor": 5
}
